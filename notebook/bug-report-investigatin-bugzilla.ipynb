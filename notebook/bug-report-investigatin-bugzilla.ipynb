{
 "cells": [
  {
   "cell_type": "markdown",
   "metadata": {},
   "source": [
    "# Investigating Bug Reports Resolution on Bugzilla\n",
    "\n",
    "This Jupyter Notebook has the code for reproducing the experiment used in the master thesis."
   ]
  },
  {
   "cell_type": "markdown",
   "metadata": {},
   "source": [
    "### Dependencies"
   ]
  },
  {
   "cell_type": "code",
   "execution_count": 1,
   "metadata": {},
   "outputs": [],
   "source": [
    "import sklearn\n",
    "\n",
    "import numpy as np\n",
    "import pandas as pd\n",
    "\n",
    "# evaluate random forest algorithm for classification\n",
    "from numpy import mean\n",
    "from numpy import std\n",
    "from sklearn import metrics\n",
    "from sklearn.datasets import make_classification\n",
    "from sklearn.model_selection import cross_val_score\n",
    "from sklearn.model_selection import RepeatedStratifiedKFold\n",
    "import pickle\n",
    "\n",
    "\n",
    "# plot\n",
    "from matplotlib import pyplot as plt\n",
    "import altair as alt\n",
    "import seaborn as sns\n",
    "\n",
    "\n",
    "from sklearn.preprocessing import StandardScaler\n",
    "from sklearn.model_selection import train_test_split, GridSearchCV\n",
    "\n",
    "# models\n",
    "from sklearn.naive_bayes import GaussianNB\n",
    "from sklearn.metrics import precision_score, confusion_matrix, accuracy_score, recall_score, f1_score, plot_confusion_matrix\n",
    "from sklearn.ensemble import RandomForestClassifier, GradientBoostingClassifier\n",
    "from sklearn.linear_model import LogisticRegression\n",
    "from sklearn.tree import DecisionTreeClassifier\n",
    "\n",
    "# data balancing\n",
    "from imblearn.over_sampling import RandomOverSampler"
   ]
  },
  {
   "cell_type": "markdown",
   "metadata": {},
   "source": [
    "#### Loading dataset"
   ]
  },
  {
   "cell_type": "code",
   "execution_count": 2,
   "metadata": {},
   "outputs": [],
   "source": [
    "data_raw = None\n",
    "train = pd.read_csv('../data/train_balnced_no_test.csv')\n",
    "test = pd.read_csv('../data/test_umbalanced.csv')"
   ]
  },
  {
   "cell_type": "markdown",
   "metadata": {},
   "source": [
    "Removing some unwatend features"
   ]
  },
  {
   "cell_type": "code",
   "execution_count": 3,
   "metadata": {},
   "outputs": [],
   "source": [
    "train = train.drop(['status_RESOLVED', 'status_VERIFIED', 'changes_status', 'changes_resolution'], axis=1)\n",
    "test = test.drop(['status_RESOLVED', 'status_VERIFIED', 'changes_status', 'changes_resolution'], axis=1)"
   ]
  },
  {
   "cell_type": "markdown",
   "metadata": {},
   "source": [
    "# Data Processing"
   ]
  },
  {
   "cell_type": "code",
   "execution_count": null,
   "metadata": {},
   "outputs": [],
   "source": [
    "data = pd.DataFrame.copy(data_raw)"
   ]
  },
  {
   "cell_type": "code",
   "execution_count": null,
   "metadata": {},
   "outputs": [],
   "source": [
    "# filing the null values whit empty string\n",
    "\n",
    "data['description'].fillna('', inplace=True)\n",
    "data['total_words_desc'] = data.apply(lambda row: len(list(tokenize(row['description']))), axis=1)\n",
    "\n",
    "data['summary'].fillna('', inplace=True)\n",
    "data['total_words_summary'] = data.apply(lambda row: len(list(tokenize(row['summary']))), axis=1)\n",
    "\n",
    "# removing features that have mostly empty values\n",
    "data.drop(\"type\", inplace=True, axis=1)\n",
    "data.drop(\"flags\", inplace=True, axis=1)\n",
    "data.drop(\"assigned_to\", inplace=True, axis=1)\n",
    "data.drop(\"creator\", inplace=True, axis=1)\n",
    "data.drop(\"description\", inplace=True, axis=1)\n",
    "data.drop(\"summary\", inplace=True, axis=1)\n",
    "data.drop(\"id\", inplace=True, axis=1)\n",
    "data.drop(\"creation_time\", inplace=True, axis=1)\n",
    "data.drop(\"last_change_time\", inplace=True, axis=1)\n",
    "\n",
    "#Target feature\n",
    "target_feature = data[[\"resolution\"]]\n",
    "data.drop(\"resolution\", inplace=True, axis=1)"
   ]
  },
  {
   "cell_type": "markdown",
   "metadata": {},
   "source": [
    "### Transforming non-numeric features in dummy features"
   ]
  },
  {
   "cell_type": "code",
   "execution_count": null,
   "metadata": {},
   "outputs": [],
   "source": [
    "data = pd.get_dummies(data)\n",
    "data.head(5)"
   ]
  },
  {
   "cell_type": "markdown",
   "metadata": {},
   "source": [
    "# Data Balancing\n",
    "\n",
    "For balancind the data the follwoing chunks must be executed.\n",
    "X_ros - data balanced\n",
    "y_ros - labels"
   ]
  },
  {
   "cell_type": "code",
   "execution_count": null,
   "metadata": {},
   "outputs": [],
   "source": [
    "ros = RandomOverSampler()\n",
    "X = data.drop('label', axis=1)\n",
    "X_ros, y_ros = ros.fit_resample(X, data['label'])"
   ]
  },
  {
   "cell_type": "markdown",
   "metadata": {},
   "source": [
    "### Util\n",
    "Functions"
   ]
  },
  {
   "cell_type": "code",
   "execution_count": 4,
   "metadata": {},
   "outputs": [],
   "source": [
    "def get_data(path):\n",
    "    return [pd.read_csv(path + \"train.csv\"), pd.read_csv(path + \"test.csv\")]\n",
    "\n",
    "\n",
    "def show_distribution_graph(df):\n",
    "    df = df['label'].value_counts().to_frame()\n",
    "    df = df.reset_index().rename(columns={\"index\": \"Resolution\", \"label\": \"Total\"})\n",
    "\n",
    "    return alt.Chart(df).mark_bar().encode(\n",
    "        x=alt.X('Resolution', sort='-y'),\n",
    "        y='Total',\n",
    "        color = alt.value(\"#ac97b4\")\n",
    "    )\n",
    "\n",
    "def print_metrics(model, model_name, metrics, x_test, y_test, classes):\n",
    "    print(f\"{model_name} Metrics:\\n\")\n",
    "    for i in range(4):\n",
    "        print(f\"{metrics['Metrics'][i]} score is:\\t{round(metrics['Scores'][i] * 100,2)}%\")\n",
    "    print(\"\\n\")\n",
    "\n",
    "    confusion_matrix = plot_confusion_matrix(model, x_test, y_test, labels=classes, cmap=plt.cm.Blues, xticks_rotation = \"vertical\")\n",
    "\n",
    "    return confusion_matrix\n",
    "\n",
    "def compute_metrics(pred, y_test):\n",
    "    accuracy = accuracy_score(y_test, pred)\n",
    "    precision = precision_score(y_test, pred, average='weighted')\n",
    "    recall = recall_score(y_test, pred, average='weighted')\n",
    "    f1 = f1_score(y_test, pred, average='weighted')\n",
    "\n",
    "    return {\"Metrics\": [\"Accuracy\", \"Precision\", \"Recall\", \"F1\"], \"Scores\": [accuracy, precision, recall, f1]}\n",
    "\n",
    "\n",
    "def compute_metrics_per_class(pred, y_test):\n",
    "\n",
    "    # Print the confusion matrix\n",
    "    print(metrics.confusion_matrix(y_test, pred))\n",
    "\n",
    "    # Print the precision and recall, among other metrics\n",
    "    print(metrics.classification_report(y_test, pred, digits=2))\n",
    "\n",
    "def get_metrics(model, model_name, x_train, y_train, x_test, y_test, classes):\n",
    "    model.fit(x_train, y_train)\n",
    "    pred = model.predict(x_test)\n",
    "\n",
    "    metrics = compute_metrics(pred,  y_test)\n",
    "    print_metrics(model, model_name, metrics, x_test, y_test, classes)\n",
    "    compute_metrics_per_class(pred, y_test)\n",
    "\n",
    "    return metrics['Scores']\n",
    "\n",
    "\n",
    "def get_metric_data(models, models_names):\n",
    "    # models: [NB_metrics,LG_metrics,DT_metrics,RF_metrics, GB_metrics]\n",
    "    # TODO: fix this method\n",
    "    metrics = np.array(models).flatten()\n",
    "    metrics = list(map(lambda x: x*100, metrics))\n",
    "\n",
    "    data = {\"Metric\":\n",
    "            ['Accuracy', 'Precision', 'Recall', 'F1 Score'] * 5,\n",
    "            \"Metric Score\": metrics,\n",
    "            \"Model\":\n",
    "            ['Naive Bayes'] * 4 +\n",
    "            ['Logistic Regression'] * 4 +\n",
    "            ['Decision Tree'] * 4 +\n",
    "            ['Random Forest'] * 4 +\n",
    "            ['Gradient Boosting'] * 4\n",
    "        }\n",
    "\n",
    "    return pd.DataFrame(data)\n",
    "\n",
    "\n",
    "def plot_metric_graph(data):\n",
    "    g = sns.catplot(\n",
    "        data=data,\n",
    "        kind=\"bar\", x=\"Metric\", y=\"Metric Score\", hue=\"Model\",\n",
    "        ci=\"sd\", alpha=.6, height=6\n",
    "    )\n",
    "    g.set(ylim=(0, 100))\n",
    "    g.despine(left=True)\n",
    "\n",
    "\n",
    "def get_params(model_name):\n",
    "    if (model_name == \"Logistic Regression\"):\n",
    "        return { 'C': [0.0001, 0.001, 0.01, 0.1, 1.0, 10.0, 100.0, 1000.0, 10000.0, 100000.0] }\n",
    "    elif (model_name == \"Gradient Boosting\"):\n",
    "        return {\n",
    "            'n_estimators': [50, 100],\n",
    "            'max_depth': [3, 8],\n",
    "            'min_samples_split': [2, 5],\n",
    "            'min_samples_leaf': [1, 5],\n",
    "            'max_features': [None, 5],\n",
    "            'subsample': [0.5, 1]\n",
    "            }\n",
    "    else:\n",
    "        return { 'max_depth': [None, 15, 35, 50], 'max_leaf_nodes': [None, 250, 500, 750, 1000, 5000]}\n",
    "\n",
    "def print_best_params(model_name, grid, folds):\n",
    "    print(f'Hyperparams of {model_name}:\\n')\n",
    "    print(f'Got accuracy score of {grid.best_score_} in {folds}-fold')\n",
    "    if (model_name == \"Logistic Regression\"):\n",
    "        print(f'Best C: {grid.best_params_[\"C\"]}')\n",
    "    elif (model_name == \"Gradient Boosting\"):\n",
    "        print(f'Best max depth: {grid.best_params_[\"max_depth\"]}. Best number of estimators: {grid.best_params_[\"n_estimators\"]}')\n",
    "        print(f'Best min sample split: {grid.best_params_[\"min_samples_split\"]}. Best min sample leaf: {grid.best_params_[\"min_samples_leaf\"]}')\n",
    "        print(f'Best max features: {grid.best_params_[\"max_features\"]}. Best subsample: {grid.best_params_[\"subsample\"]}')\n",
    "    else:\n",
    "        print(f'Best depth: {grid.best_params_[\"max_depth\"]}. Best number of leafs: {grid.best_params_[\"max_leaf_nodes\"]}')\n",
    "\n",
    "def get_tuned_metrics(model, model_name, folds, x_train, y_train, x_test, y_test, classes):\n",
    "    params = get_params(model_name)\n",
    "\n",
    "    grid = GridSearchCV(model, params, cv = folds)\n",
    "    grid.fit(x_train, y_train)\n",
    "    pred = grid.predict(x_test)\n",
    "\n",
    "    print_best_params(model_name, grid, folds)\n",
    "    metrics = compute_metrics(pred, y_test)\n",
    "    print_metrics(grid, model_name, metrics, x_test, y_test, classes)\n",
    "    return metrics['Scores'], pred"
   ]
  },
  {
   "cell_type": "markdown",
   "metadata": {},
   "source": [
    "### Data analisys"
   ]
  },
  {
   "cell_type": "markdown",
   "metadata": {},
   "source": [
    "Balanced train distribution"
   ]
  },
  {
   "cell_type": "code",
   "execution_count": 5,
   "metadata": {},
   "outputs": [
    {
     "data": {
      "text/html": [
       "\n",
       "<div id=\"altair-viz-bd9f2ace85aa413fb4180a700bce3b48\"></div>\n",
       "<script type=\"text/javascript\">\n",
       "  var VEGA_DEBUG = (typeof VEGA_DEBUG == \"undefined\") ? {} : VEGA_DEBUG;\n",
       "  (function(spec, embedOpt){\n",
       "    let outputDiv = document.currentScript.previousElementSibling;\n",
       "    if (outputDiv.id !== \"altair-viz-bd9f2ace85aa413fb4180a700bce3b48\") {\n",
       "      outputDiv = document.getElementById(\"altair-viz-bd9f2ace85aa413fb4180a700bce3b48\");\n",
       "    }\n",
       "    const paths = {\n",
       "      \"vega\": \"https://cdn.jsdelivr.net/npm//vega@5?noext\",\n",
       "      \"vega-lib\": \"https://cdn.jsdelivr.net/npm//vega-lib?noext\",\n",
       "      \"vega-lite\": \"https://cdn.jsdelivr.net/npm//vega-lite@4.17.0?noext\",\n",
       "      \"vega-embed\": \"https://cdn.jsdelivr.net/npm//vega-embed@6?noext\",\n",
       "    };\n",
       "\n",
       "    function maybeLoadScript(lib, version) {\n",
       "      var key = `${lib.replace(\"-\", \"\")}_version`;\n",
       "      return (VEGA_DEBUG[key] == version) ?\n",
       "        Promise.resolve(paths[lib]) :\n",
       "        new Promise(function(resolve, reject) {\n",
       "          var s = document.createElement('script');\n",
       "          document.getElementsByTagName(\"head\")[0].appendChild(s);\n",
       "          s.async = true;\n",
       "          s.onload = () => {\n",
       "            VEGA_DEBUG[key] = version;\n",
       "            return resolve(paths[lib]);\n",
       "          };\n",
       "          s.onerror = () => reject(`Error loading script: ${paths[lib]}`);\n",
       "          s.src = paths[lib];\n",
       "        });\n",
       "    }\n",
       "\n",
       "    function showError(err) {\n",
       "      outputDiv.innerHTML = `<div class=\"error\" style=\"color:red;\">${err}</div>`;\n",
       "      throw err;\n",
       "    }\n",
       "\n",
       "    function displayChart(vegaEmbed) {\n",
       "      vegaEmbed(outputDiv, spec, embedOpt)\n",
       "        .catch(err => showError(`Javascript Error: ${err.message}<br>This usually means there's a typo in your chart specification. See the javascript console for the full traceback.`));\n",
       "    }\n",
       "\n",
       "    if(typeof define === \"function\" && define.amd) {\n",
       "      requirejs.config({paths});\n",
       "      require([\"vega-embed\"], displayChart, err => showError(`Error loading script: ${err.message}`));\n",
       "    } else {\n",
       "      maybeLoadScript(\"vega\", \"5\")\n",
       "        .then(() => maybeLoadScript(\"vega-lite\", \"4.17.0\"))\n",
       "        .then(() => maybeLoadScript(\"vega-embed\", \"6\"))\n",
       "        .catch(showError)\n",
       "        .then(() => displayChart(vegaEmbed));\n",
       "    }\n",
       "  })({\"config\": {\"view\": {\"continuousWidth\": 400, \"continuousHeight\": 300}}, \"data\": {\"name\": \"data-dd718c5ceca4b4ba4665d931f4895096\"}, \"mark\": \"bar\", \"encoding\": {\"color\": {\"value\": \"#ac97b4\"}, \"x\": {\"field\": \"Resolution\", \"sort\": \"-y\", \"type\": \"nominal\"}, \"y\": {\"field\": \"Total\", \"type\": \"quantitative\"}}, \"$schema\": \"https://vega.github.io/schema/vega-lite/v4.17.0.json\", \"datasets\": {\"data-dd718c5ceca4b4ba4665d931f4895096\": [{\"Resolution\": \"MOVED\", \"Total\": 34086}, {\"Resolution\": \"FIXED\", \"Total\": 34086}, {\"Resolution\": \"WONTFIX\", \"Total\": 34086}, {\"Resolution\": \"WORKSFORME\", \"Total\": 34086}, {\"Resolution\": \"DUPLICATE\", \"Total\": 34086}, {\"Resolution\": \"INVALID\", \"Total\": 34086}, {\"Resolution\": \"INCOMPLETE\", \"Total\": 34086}, {\"Resolution\": \"INACTIVE\", \"Total\": 34086}]}}, {\"mode\": \"vega-lite\"});\n",
       "</script>"
      ],
      "text/plain": [
       "alt.Chart(...)"
      ]
     },
     "execution_count": 5,
     "metadata": {},
     "output_type": "execute_result"
    }
   ],
   "source": [
    "show_distribution_graph(train)"
   ]
  },
  {
   "cell_type": "markdown",
   "metadata": {},
   "source": [
    "Test distribution"
   ]
  },
  {
   "cell_type": "code",
   "execution_count": 6,
   "metadata": {},
   "outputs": [
    {
     "data": {
      "text/html": [
       "\n",
       "<div id=\"altair-viz-db3693932dd844d19f51d7ca8668951a\"></div>\n",
       "<script type=\"text/javascript\">\n",
       "  var VEGA_DEBUG = (typeof VEGA_DEBUG == \"undefined\") ? {} : VEGA_DEBUG;\n",
       "  (function(spec, embedOpt){\n",
       "    let outputDiv = document.currentScript.previousElementSibling;\n",
       "    if (outputDiv.id !== \"altair-viz-db3693932dd844d19f51d7ca8668951a\") {\n",
       "      outputDiv = document.getElementById(\"altair-viz-db3693932dd844d19f51d7ca8668951a\");\n",
       "    }\n",
       "    const paths = {\n",
       "      \"vega\": \"https://cdn.jsdelivr.net/npm//vega@5?noext\",\n",
       "      \"vega-lib\": \"https://cdn.jsdelivr.net/npm//vega-lib?noext\",\n",
       "      \"vega-lite\": \"https://cdn.jsdelivr.net/npm//vega-lite@4.17.0?noext\",\n",
       "      \"vega-embed\": \"https://cdn.jsdelivr.net/npm//vega-embed@6?noext\",\n",
       "    };\n",
       "\n",
       "    function maybeLoadScript(lib, version) {\n",
       "      var key = `${lib.replace(\"-\", \"\")}_version`;\n",
       "      return (VEGA_DEBUG[key] == version) ?\n",
       "        Promise.resolve(paths[lib]) :\n",
       "        new Promise(function(resolve, reject) {\n",
       "          var s = document.createElement('script');\n",
       "          document.getElementsByTagName(\"head\")[0].appendChild(s);\n",
       "          s.async = true;\n",
       "          s.onload = () => {\n",
       "            VEGA_DEBUG[key] = version;\n",
       "            return resolve(paths[lib]);\n",
       "          };\n",
       "          s.onerror = () => reject(`Error loading script: ${paths[lib]}`);\n",
       "          s.src = paths[lib];\n",
       "        });\n",
       "    }\n",
       "\n",
       "    function showError(err) {\n",
       "      outputDiv.innerHTML = `<div class=\"error\" style=\"color:red;\">${err}</div>`;\n",
       "      throw err;\n",
       "    }\n",
       "\n",
       "    function displayChart(vegaEmbed) {\n",
       "      vegaEmbed(outputDiv, spec, embedOpt)\n",
       "        .catch(err => showError(`Javascript Error: ${err.message}<br>This usually means there's a typo in your chart specification. See the javascript console for the full traceback.`));\n",
       "    }\n",
       "\n",
       "    if(typeof define === \"function\" && define.amd) {\n",
       "      requirejs.config({paths});\n",
       "      require([\"vega-embed\"], displayChart, err => showError(`Error loading script: ${err.message}`));\n",
       "    } else {\n",
       "      maybeLoadScript(\"vega\", \"5\")\n",
       "        .then(() => maybeLoadScript(\"vega-lite\", \"4.17.0\"))\n",
       "        .then(() => maybeLoadScript(\"vega-embed\", \"6\"))\n",
       "        .catch(showError)\n",
       "        .then(() => displayChart(vegaEmbed));\n",
       "    }\n",
       "  })({\"config\": {\"view\": {\"continuousWidth\": 400, \"continuousHeight\": 300}}, \"data\": {\"name\": \"data-ddb68bcc5e75089e9ffe718acfd3dd5f\"}, \"mark\": \"bar\", \"encoding\": {\"color\": {\"value\": \"#ac97b4\"}, \"x\": {\"field\": \"Resolution\", \"sort\": \"-y\", \"type\": \"nominal\"}, \"y\": {\"field\": \"Total\", \"type\": \"quantitative\"}}, \"$schema\": \"https://vega.github.io/schema/vega-lite/v4.17.0.json\", \"datasets\": {\"data-ddb68bcc5e75089e9ffe718acfd3dd5f\": [{\"Resolution\": \"FIXED\", \"Total\": 8488}, {\"Resolution\": \"WORKSFORME\", \"Total\": 1463}, {\"Resolution\": \"DUPLICATE\", \"Total\": 1310}, {\"Resolution\": \"WONTFIX\", \"Total\": 728}, {\"Resolution\": \"INCOMPLETE\", \"Total\": 712}, {\"Resolution\": \"INVALID\", \"Total\": 452}, {\"Resolution\": \"INACTIVE\", \"Total\": 42}, {\"Resolution\": \"MOVED\", \"Total\": 7}]}}, {\"mode\": \"vega-lite\"});\n",
       "</script>"
      ],
      "text/plain": [
       "alt.Chart(...)"
      ]
     },
     "execution_count": 6,
     "metadata": {},
     "output_type": "execute_result"
    }
   ],
   "source": [
    "show_distribution_graph(test)"
   ]
  },
  {
   "cell_type": "markdown",
   "metadata": {},
   "source": [
    "### Machine Learning Models"
   ]
  },
  {
   "cell_type": "code",
   "execution_count": 5,
   "metadata": {},
   "outputs": [],
   "source": [
    "NB = GaussianNB()\n",
    "LG = LogisticRegression(max_iter=5000)\n",
    "DT = DecisionTreeClassifier()\n",
    "RF = RandomForestClassifier(random_state=42)\n",
    "GB = GradientBoostingClassifier(random_state=0)"
   ]
  },
  {
   "cell_type": "markdown",
   "metadata": {},
   "source": [
    "Classification artifacts"
   ]
  },
  {
   "cell_type": "code",
   "execution_count": 6,
   "metadata": {},
   "outputs": [],
   "source": [
    "x_train = train.drop('label', axis=1)\n",
    "x_test = test.drop('label', axis=1)\n",
    "y_train = train['label']\n",
    "y_test = test['label']\n",
    "classes = train['label'].unique()"
   ]
  },
  {
   "cell_type": "markdown",
   "metadata": {},
   "source": [
    "#### Gaussian Naive Bayers"
   ]
  },
  {
   "cell_type": "code",
   "execution_count": 9,
   "metadata": {},
   "outputs": [
    {
     "name": "stdout",
     "output_type": "stream",
     "text": [
      "Naive Bayes Metrics:\n",
      "\n",
      "Accuracy score is:\t12.35%\n",
      "Precision score is:\t66.04%\n",
      "Recall score is:\t12.35%\n",
      "F1 score is:\t14.11%\n",
      "\n",
      "\n"
     ]
    },
    {
     "name": "stderr",
     "output_type": "stream",
     "text": [
      "/local_home/manel_local/.local/lib/python3.9/site-packages/sklearn/utils/deprecation.py:87: FutureWarning: Function plot_confusion_matrix is deprecated; Function `plot_confusion_matrix` is deprecated in 1.0 and will be removed in 1.2. Use one of the class methods: ConfusionMatrixDisplay.from_predictions or ConfusionMatrixDisplay.from_estimator.\n",
      "  warnings.warn(msg, category=FutureWarning)\n"
     ]
    },
    {
     "name": "stdout",
     "output_type": "stream",
     "text": [
      "[[ 279   12    8   30    1  341  636    3]\n",
      " [1038  813  225   77    4 3198 3108   25]\n",
      " [   9    0    0    1    0    8   22    2]\n",
      " [ 269    5    1   22    0   56  350    9]\n",
      " [  88    3    1    6    0   79  273    2]\n",
      " [   0    0    0    0    0    7    0    0]\n",
      " [ 133    8    3    6    0   80  495    3]\n",
      " [ 367   18   11   50    3  243  756   15]]\n",
      "              precision    recall  f1-score   support\n",
      "\n",
      "   DUPLICATE       0.13      0.21      0.16      1310\n",
      "       FIXED       0.95      0.10      0.17      8488\n",
      "    INACTIVE       0.00      0.00      0.00        42\n",
      "  INCOMPLETE       0.11      0.03      0.05       712\n",
      "     INVALID       0.00      0.00      0.00       452\n",
      "       MOVED       0.00      1.00      0.00         7\n",
      "     WONTFIX       0.09      0.68      0.16       728\n",
      "  WORKSFORME       0.25      0.01      0.02      1463\n",
      "\n",
      "    accuracy                           0.12     13202\n",
      "   macro avg       0.19      0.25      0.07     13202\n",
      "weighted avg       0.66      0.12      0.14     13202\n",
      "\n"
     ]
    },
    {
     "data": {
      "image/png": "[encoded data removed]",
      "text/plain": [
       "<Figure size 432x288 with 2 Axes>"
      ]
     },
     "metadata": {
      "needs_background": "light"
     },
     "output_type": "display_data"
    }
   ],
   "source": [
    "NB_metrics = get_metrics(NB, \"Naive Bayes\", x_train, y_train, x_test, y_test, classes)"
   ]
  },
  {
   "cell_type": "markdown",
   "metadata": {},
   "source": [
    "#### Logistic Regression"
   ]
  },
  {
   "cell_type": "code",
   "execution_count": 10,
   "metadata": {},
   "outputs": [
    {
     "name": "stderr",
     "output_type": "stream",
     "text": [
      "/local_home/manel_local/.local/lib/python3.9/site-packages/sklearn/metrics/_classification.py:1327: UndefinedMetricWarning: Precision is ill-defined and being set to 0.0 in labels with no predicted samples. Use `zero_division` parameter to control this behavior.\n",
      "  _warn_prf(average, modifier, msg_start, len(result))\n",
      "/local_home/manel_local/.local/lib/python3.9/site-packages/sklearn/utils/deprecation.py:87: FutureWarning: Function plot_confusion_matrix is deprecated; Function `plot_confusion_matrix` is deprecated in 1.0 and will be removed in 1.2. Use one of the class methods: ConfusionMatrixDisplay.from_predictions or ConfusionMatrixDisplay.from_estimator.\n",
      "  warnings.warn(msg, category=FutureWarning)\n"
     ]
    },
    {
     "name": "stdout",
     "output_type": "stream",
     "text": [
      "Logistic Regression Metrics:\n",
      "\n",
      "Accuracy score is:\t0.05%\n",
      "Precision score is:\t0.0%\n",
      "Recall score is:\t0.05%\n",
      "F1 score is:\t0.0%\n",
      "\n",
      "\n",
      "[[   0    0    0    0    0 1310    0    0]\n",
      " [   0    0    0    0    0 8488    0    0]\n",
      " [   0    0    0    0    0   42    0    0]\n",
      " [   0    0    0    0    0  712    0    0]\n",
      " [   0    0    0    0    0  452    0    0]\n",
      " [   0    0    0    0    0    7    0    0]\n",
      " [   0    0    0    0    0  728    0    0]\n",
      " [   0    0    0    0    0 1463    0    0]]\n"
     ]
    },
    {
     "name": "stderr",
     "output_type": "stream",
     "text": [
      "/local_home/manel_local/.local/lib/python3.9/site-packages/sklearn/metrics/_classification.py:1327: UndefinedMetricWarning: Precision and F-score are ill-defined and being set to 0.0 in labels with no predicted samples. Use `zero_division` parameter to control this behavior.\n",
      "  _warn_prf(average, modifier, msg_start, len(result))\n",
      "/local_home/manel_local/.local/lib/python3.9/site-packages/sklearn/metrics/_classification.py:1327: UndefinedMetricWarning: Precision and F-score are ill-defined and being set to 0.0 in labels with no predicted samples. Use `zero_division` parameter to control this behavior.\n",
      "  _warn_prf(average, modifier, msg_start, len(result))\n",
      "/local_home/manel_local/.local/lib/python3.9/site-packages/sklearn/metrics/_classification.py:1327: UndefinedMetricWarning: Precision and F-score are ill-defined and being set to 0.0 in labels with no predicted samples. Use `zero_division` parameter to control this behavior.\n",
      "  _warn_prf(average, modifier, msg_start, len(result))\n"
     ]
    },
    {
     "name": "stdout",
     "output_type": "stream",
     "text": [
      "              precision    recall  f1-score   support\n",
      "\n",
      "   DUPLICATE       0.00      0.00      0.00      1310\n",
      "       FIXED       0.00      0.00      0.00      8488\n",
      "    INACTIVE       0.00      0.00      0.00        42\n",
      "  INCOMPLETE       0.00      0.00      0.00       712\n",
      "     INVALID       0.00      0.00      0.00       452\n",
      "       MOVED       0.00      1.00      0.00         7\n",
      "     WONTFIX       0.00      0.00      0.00       728\n",
      "  WORKSFORME       0.00      0.00      0.00      1463\n",
      "\n",
      "    accuracy                           0.00     13202\n",
      "   macro avg       0.00      0.12      0.00     13202\n",
      "weighted avg       0.00      0.00      0.00     13202\n",
      "\n"
     ]
    },
    {
     "data": {
      "image/png": "[encoded data removed]",
      "text/plain": [
       "<Figure size 432x288 with 2 Axes>"
      ]
     },
     "metadata": {
      "needs_background": "light"
     },
     "output_type": "display_data"
    }
   ],
   "source": [
    "LG_metrics = get_metrics(LG, \"Logistic Regression\", x_train, y_train, x_test, y_test, classes)"
   ]
  },
  {
   "cell_type": "markdown",
   "metadata": {},
   "source": [
    "#### Decision Tree"
   ]
  },
  {
   "cell_type": "code",
   "execution_count": 11,
   "metadata": {},
   "outputs": [
    {
     "name": "stdout",
     "output_type": "stream",
     "text": [
      "Decision Tree Metrics:\n",
      "\n",
      "Accuracy score is:\t65.5%\n",
      "Precision score is:\t66.23%\n",
      "Recall score is:\t65.5%\n",
      "F1 score is:\t65.86%\n",
      "\n",
      "\n",
      "[[ 365  363    9   95   99    6  113  260]\n",
      " [ 386 7243   13  110  146    7  196  387]\n",
      " [   9   13    2    2    2    0    3   11]\n",
      " [  97  103    4  291   34    1   58  124]\n",
      " [ 101   93    4   38   84    0   45   87]\n",
      " [   3    2    0    0    1    0    0    1]\n",
      " [ 117  200   12   39   53    1  199  107]\n",
      " [ 283  336   14  133   99    4  131  463]]\n"
     ]
    },
    {
     "name": "stderr",
     "output_type": "stream",
     "text": [
      "/local_home/manel_local/.local/lib/python3.9/site-packages/sklearn/utils/deprecation.py:87: FutureWarning: Function plot_confusion_matrix is deprecated; Function `plot_confusion_matrix` is deprecated in 1.0 and will be removed in 1.2. Use one of the class methods: ConfusionMatrixDisplay.from_predictions or ConfusionMatrixDisplay.from_estimator.\n",
      "  warnings.warn(msg, category=FutureWarning)\n"
     ]
    },
    {
     "name": "stdout",
     "output_type": "stream",
     "text": [
      "              precision    recall  f1-score   support\n",
      "\n",
      "   DUPLICATE       0.27      0.28      0.27      1310\n",
      "       FIXED       0.87      0.85      0.86      8488\n",
      "    INACTIVE       0.03      0.05      0.04        42\n",
      "  INCOMPLETE       0.41      0.41      0.41       712\n",
      "     INVALID       0.16      0.19      0.17       452\n",
      "       MOVED       0.00      0.00      0.00         7\n",
      "     WONTFIX       0.27      0.27      0.27       728\n",
      "  WORKSFORME       0.32      0.32      0.32      1463\n",
      "\n",
      "    accuracy                           0.65     13202\n",
      "   macro avg       0.29      0.30      0.29     13202\n",
      "weighted avg       0.66      0.65      0.66     13202\n",
      "\n"
     ]
    },
    {
     "data": {
      "image/png": "[encoded data removed]",
      "text/plain": [
       "<Figure size 432x288 with 2 Axes>"
      ]
     },
     "metadata": {
      "needs_background": "light"
     },
     "output_type": "display_data"
    }
   ],
   "source": [
    "DT_metrics = get_metrics(DT, \"Decision Tree\", x_train, y_train, x_test, y_test, classes)"
   ]
  },
  {
   "cell_type": "markdown",
   "metadata": {},
   "source": [
    "#### Random Forest"
   ]
  },
  {
   "cell_type": "code",
   "execution_count": 9,
   "metadata": {},
   "outputs": [
    {
     "name": "stderr",
     "output_type": "stream",
     "text": [
      "/Users/macbookproz/Library/Python/3.8/lib/python/site-packages/sklearn/metrics/_classification.py:1248: UndefinedMetricWarning: Precision is ill-defined and being set to 0.0 in labels with no predicted samples. Use `zero_division` parameter to control this behavior.\n",
      "  _warn_prf(average, modifier, msg_start, len(result))\n"
     ]
    },
    {
     "name": "stdout",
     "output_type": "stream",
     "text": [
      "Random Forest Metrics:\n",
      "\n",
      "Accuracy score is:\t74.46%\n",
      "Precision score is:\t71.81%\n",
      "Recall score is:\t74.46%\n",
      "F1 score is:\t72.32%\n",
      "\n",
      "\n",
      "[[ 456  485    0   44   25    0   54  246]\n",
      " [ 161 8101    0   19   13    0   44  150]\n",
      " [   5   15    1    2    1    0    2   16]\n",
      " [  82  107    0  334    8    0   25  156]\n",
      " [ 106  132    0   13   75    0   24  102]\n",
      " [   3    2    0    0    0    0    0    2]\n",
      " [  96  261    0   18    9    0  218  126]\n",
      " [ 233  432    1   70   18    0   64  645]]\n"
     ]
    },
    {
     "name": "stderr",
     "output_type": "stream",
     "text": [
      "/Users/macbookproz/Library/Python/3.8/lib/python/site-packages/sklearn/metrics/_classification.py:1248: UndefinedMetricWarning: Precision and F-score are ill-defined and being set to 0.0 in labels with no predicted samples. Use `zero_division` parameter to control this behavior.\n",
      "  _warn_prf(average, modifier, msg_start, len(result))\n",
      "/Users/macbookproz/Library/Python/3.8/lib/python/site-packages/sklearn/metrics/_classification.py:1248: UndefinedMetricWarning: Precision and F-score are ill-defined and being set to 0.0 in labels with no predicted samples. Use `zero_division` parameter to control this behavior.\n",
      "  _warn_prf(average, modifier, msg_start, len(result))\n",
      "/Users/macbookproz/Library/Python/3.8/lib/python/site-packages/sklearn/metrics/_classification.py:1248: UndefinedMetricWarning: Precision and F-score are ill-defined and being set to 0.0 in labels with no predicted samples. Use `zero_division` parameter to control this behavior.\n",
      "  _warn_prf(average, modifier, msg_start, len(result))\n"
     ]
    },
    {
     "name": "stdout",
     "output_type": "stream",
     "text": [
      "              precision    recall  f1-score   support\n",
      "\n",
      "   DUPLICATE       0.40      0.35      0.37      1310\n",
      "       FIXED       0.85      0.95      0.90      8488\n",
      "    INACTIVE       0.50      0.02      0.05        42\n",
      "  INCOMPLETE       0.67      0.47      0.55       712\n",
      "     INVALID       0.50      0.17      0.25       452\n",
      "       MOVED       0.00      0.00      0.00         7\n",
      "     WONTFIX       0.51      0.30      0.38       728\n",
      "  WORKSFORME       0.45      0.44      0.44      1463\n",
      "\n",
      "    accuracy                           0.74     13202\n",
      "   macro avg       0.48      0.34      0.37     13202\n",
      "weighted avg       0.72      0.74      0.72     13202\n",
      "\n"
     ]
    },
    {
     "data": {
      "image/png": "[encoded data removed]",
      "text/plain": [
       "<Figure size 432x288 with 2 Axes>"
      ]
     },
     "metadata": {
      "needs_background": "light"
     },
     "output_type": "display_data"
    }
   ],
   "source": [
    "RF_metrics = get_metrics(RF, \"Random Forest\", x_train, y_train, x_test, y_test, classes)"
   ]
  },
  {
   "cell_type": "markdown",
   "metadata": {},
   "source": [
    "#### Gradient Boosting"
   ]
  },
  {
   "cell_type": "code",
   "execution_count": 13,
   "metadata": {},
   "outputs": [
    {
     "name": "stdout",
     "output_type": "stream",
     "text": [
      "Gradient Boosting Metrics:\n",
      "\n",
      "Accuracy score is:\t65.79%\n",
      "Precision score is:\t73.28%\n",
      "Recall score is:\t65.79%\n",
      "F1 score is:\t68.85%\n",
      "\n",
      "\n"
     ]
    },
    {
     "name": "stderr",
     "output_type": "stream",
     "text": [
      "/local_home/manel_local/.local/lib/python3.9/site-packages/sklearn/utils/deprecation.py:87: FutureWarning: Function plot_confusion_matrix is deprecated; Function `plot_confusion_matrix` is deprecated in 1.0 and will be removed in 1.2. Use one of the class methods: ConfusionMatrixDisplay.from_predictions or ConfusionMatrixDisplay.from_estimator.\n",
      "  warnings.warn(msg, category=FutureWarning)\n"
     ]
    },
    {
     "name": "stdout",
     "output_type": "stream",
     "text": [
      "[[ 448  127   46  122  167   50  158  192]\n",
      " [ 479 6872   73   98  217   97  398  254]\n",
      " [   3    2   19    3    3    1    3    8]\n",
      " [  63   17   18  387   42    6   74  105]\n",
      " [  85   23   13   58  147   11   61   54]\n",
      " [   2    1    0    0    0    4    0    0]\n",
      " [  89   57   46   52   60    8  314  102]\n",
      " [ 274  116   67  214  130   35  133  494]]\n",
      "              precision    recall  f1-score   support\n",
      "\n",
      "   DUPLICATE       0.31      0.34      0.33      1310\n",
      "       FIXED       0.95      0.81      0.88      8488\n",
      "    INACTIVE       0.07      0.45      0.12        42\n",
      "  INCOMPLETE       0.41      0.54      0.47       712\n",
      "     INVALID       0.19      0.33      0.24       452\n",
      "       MOVED       0.02      0.57      0.04         7\n",
      "     WONTFIX       0.28      0.43      0.34       728\n",
      "  WORKSFORME       0.41      0.34      0.37      1463\n",
      "\n",
      "    accuracy                           0.66     13202\n",
      "   macro avg       0.33      0.48      0.35     13202\n",
      "weighted avg       0.73      0.66      0.69     13202\n",
      "\n"
     ]
    },
    {
     "data": {
      "image/png": "[encoded data removed]",
      "text/plain": [
       "<Figure size 432x288 with 2 Axes>"
      ]
     },
     "metadata": {
      "needs_background": "light"
     },
     "output_type": "display_data"
    }
   ],
   "source": [
    "GB_metrics = get_metrics(GB, \"Gradient Boosting\", x_train, y_train, x_test, y_test, classes)"
   ]
  },
  {
   "cell_type": "markdown",
   "metadata": {},
   "source": [
    "### Cross Validation"
   ]
  },
  {
   "cell_type": "markdown",
   "metadata": {},
   "source": [
    "Cross validation model"
   ]
  },
  {
   "cell_type": "code",
   "execution_count": 10,
   "metadata": {},
   "outputs": [],
   "source": [
    "cv = RepeatedStratifiedKFold(n_splits=10, n_repeats=3, random_state=1)"
   ]
  },
  {
   "cell_type": "markdown",
   "metadata": {},
   "source": [
    "Naive Bayers"
   ]
  },
  {
   "cell_type": "code",
   "execution_count": null,
   "metadata": {},
   "outputs": [],
   "source": [
    "n_scores_NB = cross_val_score(NB, x_train, y_train, scoring='accuracy', cv=cv, n_jobs=-1, error_score='raise')\n",
    "print('Accuracy: %.3f (%.3f)' % (mean(n_scores_NB), std(n_scores_NB)))"
   ]
  },
  {
   "cell_type": "markdown",
   "metadata": {},
   "source": [
    "Logistic Regression"
   ]
  },
  {
   "cell_type": "code",
   "execution_count": null,
   "metadata": {},
   "outputs": [],
   "source": [
    "n_scores_LG = cross_val_score(LG, x_train, y_train, scoring='accuracy', cv=cv, n_jobs=-1, error_score='raise')\n",
    "print('Accuracy: %.3f (%.3f)' % (mean(n_scores_LG), std(n_scores_LG)))"
   ]
  },
  {
   "attachments": {},
   "cell_type": "markdown",
   "metadata": {},
   "source": [
    "Random forest\n",
    "TODO: instance the model again and run it"
   ]
  },
  {
   "cell_type": "code",
   "execution_count": 8,
   "metadata": {},
   "outputs": [
    {
     "ename": "",
     "evalue": "",
     "output_type": "error",
     "traceback": [
      "\u001b[1;31mCanceled future for execute_request message before replies were done"
     ]
    },
    {
     "ename": "",
     "evalue": "",
     "output_type": "error",
     "traceback": [
      "\u001b[1;31mThe Kernel crashed while executing code in the the current cell or a previous cell. Please review the code in the cell(s) to identify a possible cause of the failure. Click <a href='https://aka.ms/vscodeJupyterKernelCrash'>here</a> for more info. View Jupyter <a href='command:jupyter.viewOutput'>log</a> for further details."
     ]
    }
   ],
   "source": [
    "n_scores_RF = cross_val_score(RF, x_train, y_train, scoring='accuracy', cv=cv, n_jobs=-1, error_score='raise')\n",
    "print('Accuracy: %.3f (%.3f)' % (mean(n_scores_RF), std(n_scores_RF)))"
   ]
  },
  {
   "cell_type": "markdown",
   "metadata": {},
   "source": [
    "Gradient Boosting"
   ]
  },
  {
   "cell_type": "code",
   "execution_count": null,
   "metadata": {},
   "outputs": [],
   "source": [
    "#took too much time\n",
    "#n_scores_GB = cross_val_score(GB, x_train, y_train, scoring='accuracy', cv=cv, n_jobs=-1, error_score='raise')\n",
    "#print('Accuracy: %.3f (%.3f)' % (mean(n_scores_GB), std(n_scores_GB)))"
   ]
  },
  {
   "cell_type": "markdown",
   "metadata": {},
   "source": [
    "### Models Finetunning"
   ]
  },
  {
   "cell_type": "markdown",
   "metadata": {},
   "source": [
    "Naive Bayers"
   ]
  },
  {
   "cell_type": "code",
   "execution_count": null,
   "metadata": {},
   "outputs": [],
   "source": [
    "NB_tuned_metrics, nb_pred = get_tuned_metrics(NB, \"Naive Bayes\", 10, x_train, y_train, x_test, y_test, classes)\n",
    "pickle.dump(NB_tuned_metrics, open('./data/models/NB_tuned_metrics.pkl', 'wb'))\n",
    "pickle.dump(nb_pred, open('./data/models/nb_pred.pkl', 'wb'))"
   ]
  },
  {
   "cell_type": "markdown",
   "metadata": {},
   "source": [
    "Logistic Regression"
   ]
  },
  {
   "cell_type": "code",
   "execution_count": null,
   "metadata": {},
   "outputs": [],
   "source": [
    "LG_tuned_metrics, lg_pred = get_tuned_metrics(LG, \"Logistic Regression\", 10, x_train, y_train, x_test, y_test, classes)\n",
    "pickle.dump(LG_tuned_metrics, open('./data/models/LG_tuned_metrics.pkl', 'wb'))\n",
    "pickle.dump(lg_pred, open('./data/models/lg_pred.pkl', 'wb'))"
   ]
  },
  {
   "cell_type": "markdown",
   "metadata": {},
   "source": [
    "Decision Tree"
   ]
  },
  {
   "cell_type": "code",
   "execution_count": null,
   "metadata": {},
   "outputs": [],
   "source": [
    "DT_tuned_metrics, dt_pred = get_tuned_metrics(DT, \"Decision Tree\", 10, x_train, y_train, x_test, y_test, classes)\n",
    "pickle.dump(DT_tuned_metrics, open('./data/models/DT_tuned_metrics.pkl', 'wb'))\n",
    "pickle.dump(dt_pred, open('./data/models/dt_pred.pkl', 'wb'))"
   ]
  },
  {
   "cell_type": "markdown",
   "metadata": {},
   "source": [
    "Random Forest"
   ]
  },
  {
   "cell_type": "code",
   "execution_count": null,
   "metadata": {},
   "outputs": [],
   "source": [
    "RF_tuned_metrics, rf_pred = get_tuned_metrics(RF, 'RandomForest', 10, x_train, y_train, x_test, y_test, classes)\n",
    "pickle.dump(RF_tuned_metrics, open('./data/models/RF_tuned_metrics.pkl', 'wb'))\n",
    "pickle.dump(rf_pred, open('./data/models/rf_pred.pkl', 'wb'))"
   ]
  },
  {
   "cell_type": "markdown",
   "metadata": {},
   "source": [
    "Gradient Boosting"
   ]
  },
  {
   "cell_type": "code",
   "execution_count": null,
   "metadata": {},
   "outputs": [],
   "source": [
    "GB_tuned_metrics, gb_pred = get_tuned_metrics(GB, 'Gradient Boosting', 10, x_train, y_train, x_test, y_test, classes)\n",
    "pickle.dump(GB_tuned_metrics, open('./data/models/GB_tuned_metrics.pkl', 'wb'))\n",
    "pickle.dump(gb_pred, open('./data/models/gb_pred.pkl', 'wb'))"
   ]
  },
  {
   "attachments": {},
   "cell_type": "markdown",
   "metadata": {},
   "source": [
    "# Grouping Strategy"
   ]
  },
  {
   "attachments": {},
   "cell_type": "markdown",
   "metadata": {},
   "source": [
    "TODO"
   ]
  },
  {
   "attachments": {},
   "cell_type": "markdown",
   "metadata": {},
   "source": [
    "# Random Forest Analysis "
   ]
  },
  {
   "cell_type": "markdown",
   "metadata": {},
   "source": []
  },
  {
   "cell_type": "code",
   "execution_count": 7,
   "metadata": {},
   "outputs": [],
   "source": [
    "fit_result = RF.fit(x_train, y_train)\n",
    "pred = RF.predict(x_test)"
   ]
  },
  {
   "cell_type": "code",
   "execution_count": 8,
   "metadata": {},
   "outputs": [],
   "source": [
    "data_eda = test.copy()\n",
    "data_eda['predicted'] = pred"
   ]
  },
  {
   "attachments": {},
   "cell_type": "markdown",
   "metadata": {},
   "source": [
    "In order to check whether the FIXED classifications was right we defined:"
   ]
  },
  {
   "cell_type": "code",
   "execution_count": 9,
   "metadata": {},
   "outputs": [],
   "source": [
    "def eval_classification(row):\n",
    "    if ((row['label'] == row['predicted']) & (row['label'] == 'FIXED')):\n",
    "        return 'right'\n",
    "    elif ((row['label'] != row['predicted']) & (row['label'] == 'FIXED')):\n",
    "        return 'wrong'\n",
    "    else:\n",
    "        return 'other'"
   ]
  },
  {
   "cell_type": "code",
   "execution_count": 10,
   "metadata": {},
   "outputs": [
    {
     "data": {
      "text/html": [
       "<div>\n",
       "<style scoped>\n",
       "    .dataframe tbody tr th:only-of-type {\n",
       "        vertical-align: middle;\n",
       "    }\n",
       "\n",
       "    .dataframe tbody tr th {\n",
       "        vertical-align: top;\n",
       "    }\n",
       "\n",
       "    .dataframe thead th {\n",
       "        text-align: right;\n",
       "    }\n",
       "</style>\n",
       "<table border=\"1\" class=\"dataframe\">\n",
       "  <thead>\n",
       "    <tr style=\"text-align: right;\">\n",
       "      <th></th>\n",
       "      <th>bg_number</th>\n",
       "      <th>total_users_commenting</th>\n",
       "      <th>total_comments_by_author</th>\n",
       "      <th>has_attachment</th>\n",
       "      <th>total_attachment_comments</th>\n",
       "      <th>changes_severity</th>\n",
       "      <th>changes_priority</th>\n",
       "      <th>changes_assigned</th>\n",
       "      <th>total_changes</th>\n",
       "      <th>total_users_changes</th>\n",
       "      <th>...</th>\n",
       "      <th>op_sys_Other</th>\n",
       "      <th>op_sys_Solaris</th>\n",
       "      <th>op_sys_Unspecified</th>\n",
       "      <th>op_sys_Windows</th>\n",
       "      <th>op_sys_Windows Phone 8</th>\n",
       "      <th>op_sys_iOS</th>\n",
       "      <th>op_sys_macOS</th>\n",
       "      <th>label</th>\n",
       "      <th>predicted</th>\n",
       "      <th>classification</th>\n",
       "    </tr>\n",
       "  </thead>\n",
       "  <tbody>\n",
       "    <tr>\n",
       "      <th>0</th>\n",
       "      <td>990833.0</td>\n",
       "      <td>0</td>\n",
       "      <td>3</td>\n",
       "      <td>False</td>\n",
       "      <td>0</td>\n",
       "      <td>0</td>\n",
       "      <td>1</td>\n",
       "      <td>1</td>\n",
       "      <td>9</td>\n",
       "      <td>2</td>\n",
       "      <td>...</td>\n",
       "      <td>0</td>\n",
       "      <td>0</td>\n",
       "      <td>0</td>\n",
       "      <td>0</td>\n",
       "      <td>0</td>\n",
       "      <td>0</td>\n",
       "      <td>0</td>\n",
       "      <td>WONTFIX</td>\n",
       "      <td>WONTFIX</td>\n",
       "      <td>other</td>\n",
       "    </tr>\n",
       "    <tr>\n",
       "      <th>1</th>\n",
       "      <td>1713606.0</td>\n",
       "      <td>6</td>\n",
       "      <td>0</td>\n",
       "      <td>False</td>\n",
       "      <td>3</td>\n",
       "      <td>0</td>\n",
       "      <td>1</td>\n",
       "      <td>1</td>\n",
       "      <td>20</td>\n",
       "      <td>7</td>\n",
       "      <td>...</td>\n",
       "      <td>0</td>\n",
       "      <td>0</td>\n",
       "      <td>1</td>\n",
       "      <td>0</td>\n",
       "      <td>0</td>\n",
       "      <td>0</td>\n",
       "      <td>0</td>\n",
       "      <td>FIXED</td>\n",
       "      <td>FIXED</td>\n",
       "      <td>right</td>\n",
       "    </tr>\n",
       "    <tr>\n",
       "      <th>2</th>\n",
       "      <td>1338477.0</td>\n",
       "      <td>1</td>\n",
       "      <td>0</td>\n",
       "      <td>False</td>\n",
       "      <td>2</td>\n",
       "      <td>0</td>\n",
       "      <td>1</td>\n",
       "      <td>1</td>\n",
       "      <td>9</td>\n",
       "      <td>3</td>\n",
       "      <td>...</td>\n",
       "      <td>0</td>\n",
       "      <td>0</td>\n",
       "      <td>1</td>\n",
       "      <td>0</td>\n",
       "      <td>0</td>\n",
       "      <td>0</td>\n",
       "      <td>0</td>\n",
       "      <td>FIXED</td>\n",
       "      <td>FIXED</td>\n",
       "      <td>right</td>\n",
       "    </tr>\n",
       "    <tr>\n",
       "      <th>3</th>\n",
       "      <td>1032077.0</td>\n",
       "      <td>0</td>\n",
       "      <td>1</td>\n",
       "      <td>False</td>\n",
       "      <td>0</td>\n",
       "      <td>1</td>\n",
       "      <td>1</td>\n",
       "      <td>0</td>\n",
       "      <td>5</td>\n",
       "      <td>2</td>\n",
       "      <td>...</td>\n",
       "      <td>0</td>\n",
       "      <td>0</td>\n",
       "      <td>0</td>\n",
       "      <td>0</td>\n",
       "      <td>0</td>\n",
       "      <td>0</td>\n",
       "      <td>0</td>\n",
       "      <td>INVALID</td>\n",
       "      <td>WONTFIX</td>\n",
       "      <td>other</td>\n",
       "    </tr>\n",
       "    <tr>\n",
       "      <th>4</th>\n",
       "      <td>1124266.0</td>\n",
       "      <td>3</td>\n",
       "      <td>0</td>\n",
       "      <td>False</td>\n",
       "      <td>2</td>\n",
       "      <td>0</td>\n",
       "      <td>1</td>\n",
       "      <td>1</td>\n",
       "      <td>7</td>\n",
       "      <td>2</td>\n",
       "      <td>...</td>\n",
       "      <td>0</td>\n",
       "      <td>0</td>\n",
       "      <td>0</td>\n",
       "      <td>0</td>\n",
       "      <td>0</td>\n",
       "      <td>0</td>\n",
       "      <td>1</td>\n",
       "      <td>FIXED</td>\n",
       "      <td>FIXED</td>\n",
       "      <td>right</td>\n",
       "    </tr>\n",
       "  </tbody>\n",
       "</table>\n",
       "<p>5 rows × 1226 columns</p>\n",
       "</div>"
      ],
      "text/plain": [
       "   bg_number  total_users_commenting  total_comments_by_author  \\\n",
       "0   990833.0                       0                         3   \n",
       "1  1713606.0                       6                         0   \n",
       "2  1338477.0                       1                         0   \n",
       "3  1032077.0                       0                         1   \n",
       "4  1124266.0                       3                         0   \n",
       "\n",
       "   has_attachment  total_attachment_comments  changes_severity  \\\n",
       "0           False                          0                 0   \n",
       "1           False                          3                 0   \n",
       "2           False                          2                 0   \n",
       "3           False                          0                 1   \n",
       "4           False                          2                 0   \n",
       "\n",
       "   changes_priority  changes_assigned  total_changes  total_users_changes  \\\n",
       "0                 1                 1              9                    2   \n",
       "1                 1                 1             20                    7   \n",
       "2                 1                 1              9                    3   \n",
       "3                 1                 0              5                    2   \n",
       "4                 1                 1              7                    2   \n",
       "\n",
       "   ...  op_sys_Other  op_sys_Solaris  op_sys_Unspecified  op_sys_Windows  \\\n",
       "0  ...             0               0                   0               0   \n",
       "1  ...             0               0                   1               0   \n",
       "2  ...             0               0                   1               0   \n",
       "3  ...             0               0                   0               0   \n",
       "4  ...             0               0                   0               0   \n",
       "\n",
       "   op_sys_Windows Phone 8  op_sys_iOS  op_sys_macOS    label  predicted  \\\n",
       "0                       0           0             0  WONTFIX    WONTFIX   \n",
       "1                       0           0             0    FIXED      FIXED   \n",
       "2                       0           0             0    FIXED      FIXED   \n",
       "3                       0           0             0  INVALID    WONTFIX   \n",
       "4                       0           0             1    FIXED      FIXED   \n",
       "\n",
       "   classification  \n",
       "0           other  \n",
       "1           right  \n",
       "2           right  \n",
       "3           other  \n",
       "4           right  \n",
       "\n",
       "[5 rows x 1226 columns]"
      ]
     },
     "execution_count": 10,
     "metadata": {},
     "output_type": "execute_result"
    }
   ],
   "source": [
    "data_eda['classification'] = data_eda.apply(lambda row: eval_classification(row), axis=1)\n",
    "data_eda.head()\n"
   ]
  },
  {
   "cell_type": "code",
   "execution_count": 11,
   "metadata": {},
   "outputs": [],
   "source": [
    "data_eda.to_csv('../data/data_eda.csv')"
   ]
  },
  {
   "cell_type": "code",
   "execution_count": 18,
   "metadata": {},
   "outputs": [],
   "source": [
    "data_eda = pd.read_csv('../data/data_eda.csv')"
   ]
  },
  {
   "cell_type": "code",
   "execution_count": 13,
   "metadata": {},
   "outputs": [
    {
     "data": {
      "image/png": "[encoded data removed]",
      "text/plain": [
       "<Figure size 1490.4x883.44 with 1 Axes>"
      ]
     },
     "metadata": {},
     "output_type": "display_data"
    }
   ],
   "source": [
    "sns.set(rc={\"figure.figsize\":(20.7, 12.27)})\n",
    "sns.set_style('whitegrid')\n",
    "\n",
    "\n",
    "ax= sns.boxplot(x='total_attachment_comments',y='classification',data=data_eda).set(xlim=(0, 60))"
   ]
  },
  {
   "cell_type": "code",
   "execution_count": 23,
   "metadata": {},
   "outputs": [
    {
     "data": {
      "text/plain": [
       "387"
      ]
     },
     "execution_count": 23,
     "metadata": {},
     "output_type": "execute_result"
    }
   ],
   "source": [
    "len(data_eda[data_eda['classification'] == 'wrong'])"
   ]
  },
  {
   "attachments": {},
   "cell_type": "markdown",
   "metadata": {},
   "source": [
    "INCOMPLETE"
   ]
  },
  {
   "cell_type": "code",
   "execution_count": 38,
   "metadata": {},
   "outputs": [
    {
     "name": "stderr",
     "output_type": "stream",
     "text": [
      "/tmp/ipykernel_20881/440639897.py:1: UserWarning: Boolean Series key will be reindexed to match DataFrame index.\n",
      "  data_eda_incomplete = data_eda[(data_eda['label'] == 'INCOMPLETE')][(data_eda[\"label\"] == data_eda[\"predicted\"])]\n",
      "/tmp/ipykernel_20881/440639897.py:2: UserWarning: Boolean Series key will be reindexed to match DataFrame index.\n",
      "  data_eda_incomplete_wrong = data_eda[(data_eda['label'] == 'INCOMPLETE')][(data_eda[\"label\"] != data_eda[\"predicted\"])]\n"
     ]
    }
   ],
   "source": [
    "data_eda_incomplete = data_eda[(data_eda['label'] == 'INCOMPLETE')][(data_eda[\"label\"] == data_eda[\"predicted\"])]\n",
    "data_eda_incomplete_wrong = data_eda[(data_eda['label'] == 'INCOMPLETE')][(data_eda[\"label\"] != data_eda[\"predicted\"])]"
   ]
  },
  {
   "cell_type": "markdown",
   "metadata": {},
   "source": [
    "Data summary"
   ]
  },
  {
   "attachments": {},
   "cell_type": "markdown",
   "metadata": {},
   "source": [
    "- Tamanho dos comentários\n",
    "- Descrição dos comentários\n",
    "- Quantidade de palavras impactam?\n",
    "- Qual a relação dos comentários com outras variáveis?\n",
    "- Os classificados de forma correta têm mais mudanças(total_changes)?"
   ]
  },
  {
   "cell_type": "code",
   "execution_count": 16,
   "metadata": {},
   "outputs": [
    {
     "data": {
      "text/html": [
       "<div>\n",
       "<style scoped>\n",
       "    .dataframe tbody tr th:only-of-type {\n",
       "        vertical-align: middle;\n",
       "    }\n",
       "\n",
       "    .dataframe tbody tr th {\n",
       "        vertical-align: top;\n",
       "    }\n",
       "\n",
       "    .dataframe thead th {\n",
       "        text-align: right;\n",
       "    }\n",
       "</style>\n",
       "<table border=\"1\" class=\"dataframe\">\n",
       "  <thead>\n",
       "    <tr style=\"text-align: right;\">\n",
       "      <th></th>\n",
       "      <th>bg_number</th>\n",
       "      <th>total_users_commenting</th>\n",
       "      <th>total_comments_by_author</th>\n",
       "      <th>total_attachment_comments</th>\n",
       "      <th>changes_severity</th>\n",
       "      <th>changes_priority</th>\n",
       "      <th>changes_assigned</th>\n",
       "      <th>total_changes</th>\n",
       "      <th>total_users_changes</th>\n",
       "      <th>severity</th>\n",
       "      <th>...</th>\n",
       "      <th>op_sys_OS/2</th>\n",
       "      <th>op_sys_OpenBSD</th>\n",
       "      <th>op_sys_OpenSolaris</th>\n",
       "      <th>op_sys_Other</th>\n",
       "      <th>op_sys_Solaris</th>\n",
       "      <th>op_sys_Unspecified</th>\n",
       "      <th>op_sys_Windows</th>\n",
       "      <th>op_sys_Windows Phone 8</th>\n",
       "      <th>op_sys_iOS</th>\n",
       "      <th>op_sys_macOS</th>\n",
       "    </tr>\n",
       "  </thead>\n",
       "  <tbody>\n",
       "    <tr>\n",
       "      <th>count</th>\n",
       "      <td>3.340000e+02</td>\n",
       "      <td>334.000000</td>\n",
       "      <td>334.000000</td>\n",
       "      <td>334.000000</td>\n",
       "      <td>334.000000</td>\n",
       "      <td>334.000000</td>\n",
       "      <td>334.000000</td>\n",
       "      <td>334.000000</td>\n",
       "      <td>334.000000</td>\n",
       "      <td>334.000000</td>\n",
       "      <td>...</td>\n",
       "      <td>334.0</td>\n",
       "      <td>334.0</td>\n",
       "      <td>334.0</td>\n",
       "      <td>334.0</td>\n",
       "      <td>334.0</td>\n",
       "      <td>334.000000</td>\n",
       "      <td>334.000000</td>\n",
       "      <td>334.0</td>\n",
       "      <td>334.0</td>\n",
       "      <td>334.000000</td>\n",
       "    </tr>\n",
       "    <tr>\n",
       "      <th>mean</th>\n",
       "      <td>1.169130e+06</td>\n",
       "      <td>2.005988</td>\n",
       "      <td>0.389222</td>\n",
       "      <td>0.053892</td>\n",
       "      <td>0.200599</td>\n",
       "      <td>0.934132</td>\n",
       "      <td>0.008982</td>\n",
       "      <td>4.026946</td>\n",
       "      <td>2.931138</td>\n",
       "      <td>2.413174</td>\n",
       "      <td>...</td>\n",
       "      <td>0.0</td>\n",
       "      <td>0.0</td>\n",
       "      <td>0.0</td>\n",
       "      <td>0.0</td>\n",
       "      <td>0.0</td>\n",
       "      <td>0.655689</td>\n",
       "      <td>0.200599</td>\n",
       "      <td>0.0</td>\n",
       "      <td>0.0</td>\n",
       "      <td>0.044910</td>\n",
       "    </tr>\n",
       "    <tr>\n",
       "      <th>std</th>\n",
       "      <td>1.957633e+05</td>\n",
       "      <td>1.651269</td>\n",
       "      <td>1.289134</td>\n",
       "      <td>0.295258</td>\n",
       "      <td>0.541269</td>\n",
       "      <td>0.601677</td>\n",
       "      <td>0.122205</td>\n",
       "      <td>3.023808</td>\n",
       "      <td>1.582009</td>\n",
       "      <td>0.803487</td>\n",
       "      <td>...</td>\n",
       "      <td>0.0</td>\n",
       "      <td>0.0</td>\n",
       "      <td>0.0</td>\n",
       "      <td>0.0</td>\n",
       "      <td>0.0</td>\n",
       "      <td>0.475856</td>\n",
       "      <td>0.401049</td>\n",
       "      <td>0.0</td>\n",
       "      <td>0.0</td>\n",
       "      <td>0.207418</td>\n",
       "    </tr>\n",
       "    <tr>\n",
       "      <th>min</th>\n",
       "      <td>7.173860e+05</td>\n",
       "      <td>0.000000</td>\n",
       "      <td>0.000000</td>\n",
       "      <td>0.000000</td>\n",
       "      <td>0.000000</td>\n",
       "      <td>0.000000</td>\n",
       "      <td>0.000000</td>\n",
       "      <td>1.000000</td>\n",
       "      <td>1.000000</td>\n",
       "      <td>1.000000</td>\n",
       "      <td>...</td>\n",
       "      <td>0.0</td>\n",
       "      <td>0.0</td>\n",
       "      <td>0.0</td>\n",
       "      <td>0.0</td>\n",
       "      <td>0.0</td>\n",
       "      <td>0.000000</td>\n",
       "      <td>0.000000</td>\n",
       "      <td>0.0</td>\n",
       "      <td>0.0</td>\n",
       "      <td>0.000000</td>\n",
       "    </tr>\n",
       "    <tr>\n",
       "      <th>25%</th>\n",
       "      <td>1.071312e+06</td>\n",
       "      <td>1.000000</td>\n",
       "      <td>0.000000</td>\n",
       "      <td>0.000000</td>\n",
       "      <td>0.000000</td>\n",
       "      <td>1.000000</td>\n",
       "      <td>0.000000</td>\n",
       "      <td>2.000000</td>\n",
       "      <td>2.000000</td>\n",
       "      <td>2.000000</td>\n",
       "      <td>...</td>\n",
       "      <td>0.0</td>\n",
       "      <td>0.0</td>\n",
       "      <td>0.0</td>\n",
       "      <td>0.0</td>\n",
       "      <td>0.0</td>\n",
       "      <td>0.000000</td>\n",
       "      <td>0.000000</td>\n",
       "      <td>0.0</td>\n",
       "      <td>0.0</td>\n",
       "      <td>0.000000</td>\n",
       "    </tr>\n",
       "    <tr>\n",
       "      <th>50%</th>\n",
       "      <td>1.283438e+06</td>\n",
       "      <td>2.000000</td>\n",
       "      <td>0.000000</td>\n",
       "      <td>0.000000</td>\n",
       "      <td>0.000000</td>\n",
       "      <td>1.000000</td>\n",
       "      <td>0.000000</td>\n",
       "      <td>3.000000</td>\n",
       "      <td>3.000000</td>\n",
       "      <td>2.000000</td>\n",
       "      <td>...</td>\n",
       "      <td>0.0</td>\n",
       "      <td>0.0</td>\n",
       "      <td>0.0</td>\n",
       "      <td>0.0</td>\n",
       "      <td>0.0</td>\n",
       "      <td>1.000000</td>\n",
       "      <td>0.000000</td>\n",
       "      <td>0.0</td>\n",
       "      <td>0.0</td>\n",
       "      <td>0.000000</td>\n",
       "    </tr>\n",
       "    <tr>\n",
       "      <th>75%</th>\n",
       "      <td>1.297250e+06</td>\n",
       "      <td>3.000000</td>\n",
       "      <td>0.000000</td>\n",
       "      <td>0.000000</td>\n",
       "      <td>0.000000</td>\n",
       "      <td>1.000000</td>\n",
       "      <td>0.000000</td>\n",
       "      <td>5.000000</td>\n",
       "      <td>3.000000</td>\n",
       "      <td>2.000000</td>\n",
       "      <td>...</td>\n",
       "      <td>0.0</td>\n",
       "      <td>0.0</td>\n",
       "      <td>0.0</td>\n",
       "      <td>0.0</td>\n",
       "      <td>0.0</td>\n",
       "      <td>1.000000</td>\n",
       "      <td>0.000000</td>\n",
       "      <td>0.0</td>\n",
       "      <td>0.0</td>\n",
       "      <td>0.000000</td>\n",
       "    </tr>\n",
       "    <tr>\n",
       "      <th>max</th>\n",
       "      <td>1.533753e+06</td>\n",
       "      <td>14.000000</td>\n",
       "      <td>12.000000</td>\n",
       "      <td>2.000000</td>\n",
       "      <td>4.000000</td>\n",
       "      <td>4.000000</td>\n",
       "      <td>2.000000</td>\n",
       "      <td>23.000000</td>\n",
       "      <td>20.000000</td>\n",
       "      <td>4.000000</td>\n",
       "      <td>...</td>\n",
       "      <td>0.0</td>\n",
       "      <td>0.0</td>\n",
       "      <td>0.0</td>\n",
       "      <td>0.0</td>\n",
       "      <td>0.0</td>\n",
       "      <td>1.000000</td>\n",
       "      <td>1.000000</td>\n",
       "      <td>0.0</td>\n",
       "      <td>0.0</td>\n",
       "      <td>1.000000</td>\n",
       "    </tr>\n",
       "  </tbody>\n",
       "</table>\n",
       "<p>8 rows × 1222 columns</p>\n",
       "</div>"
      ],
      "text/plain": [
       "          bg_number  total_users_commenting  total_comments_by_author  \\\n",
       "count  3.340000e+02              334.000000                334.000000   \n",
       "mean   1.169130e+06                2.005988                  0.389222   \n",
       "std    1.957633e+05                1.651269                  1.289134   \n",
       "min    7.173860e+05                0.000000                  0.000000   \n",
       "25%    1.071312e+06                1.000000                  0.000000   \n",
       "50%    1.283438e+06                2.000000                  0.000000   \n",
       "75%    1.297250e+06                3.000000                  0.000000   \n",
       "max    1.533753e+06               14.000000                 12.000000   \n",
       "\n",
       "       total_attachment_comments  changes_severity  changes_priority  \\\n",
       "count                 334.000000        334.000000        334.000000   \n",
       "mean                    0.053892          0.200599          0.934132   \n",
       "std                     0.295258          0.541269          0.601677   \n",
       "min                     0.000000          0.000000          0.000000   \n",
       "25%                     0.000000          0.000000          1.000000   \n",
       "50%                     0.000000          0.000000          1.000000   \n",
       "75%                     0.000000          0.000000          1.000000   \n",
       "max                     2.000000          4.000000          4.000000   \n",
       "\n",
       "       changes_assigned  total_changes  total_users_changes    severity  ...  \\\n",
       "count        334.000000     334.000000           334.000000  334.000000  ...   \n",
       "mean           0.008982       4.026946             2.931138    2.413174  ...   \n",
       "std            0.122205       3.023808             1.582009    0.803487  ...   \n",
       "min            0.000000       1.000000             1.000000    1.000000  ...   \n",
       "25%            0.000000       2.000000             2.000000    2.000000  ...   \n",
       "50%            0.000000       3.000000             3.000000    2.000000  ...   \n",
       "75%            0.000000       5.000000             3.000000    2.000000  ...   \n",
       "max            2.000000      23.000000            20.000000    4.000000  ...   \n",
       "\n",
       "       op_sys_OS/2  op_sys_OpenBSD  op_sys_OpenSolaris  op_sys_Other  \\\n",
       "count        334.0           334.0               334.0         334.0   \n",
       "mean           0.0             0.0                 0.0           0.0   \n",
       "std            0.0             0.0                 0.0           0.0   \n",
       "min            0.0             0.0                 0.0           0.0   \n",
       "25%            0.0             0.0                 0.0           0.0   \n",
       "50%            0.0             0.0                 0.0           0.0   \n",
       "75%            0.0             0.0                 0.0           0.0   \n",
       "max            0.0             0.0                 0.0           0.0   \n",
       "\n",
       "       op_sys_Solaris  op_sys_Unspecified  op_sys_Windows  \\\n",
       "count           334.0          334.000000      334.000000   \n",
       "mean              0.0            0.655689        0.200599   \n",
       "std               0.0            0.475856        0.401049   \n",
       "min               0.0            0.000000        0.000000   \n",
       "25%               0.0            0.000000        0.000000   \n",
       "50%               0.0            1.000000        0.000000   \n",
       "75%               0.0            1.000000        0.000000   \n",
       "max               0.0            1.000000        1.000000   \n",
       "\n",
       "       op_sys_Windows Phone 8  op_sys_iOS  op_sys_macOS  \n",
       "count                   334.0       334.0    334.000000  \n",
       "mean                      0.0         0.0      0.044910  \n",
       "std                       0.0         0.0      0.207418  \n",
       "min                       0.0         0.0      0.000000  \n",
       "25%                       0.0         0.0      0.000000  \n",
       "50%                       0.0         0.0      0.000000  \n",
       "75%                       0.0         0.0      0.000000  \n",
       "max                       0.0         0.0      1.000000  \n",
       "\n",
       "[8 rows x 1222 columns]"
      ]
     },
     "execution_count": 16,
     "metadata": {},
     "output_type": "execute_result"
    }
   ],
   "source": [
    "data_eda_incomplete.describe()"
   ]
  },
  {
   "cell_type": "code",
   "execution_count": 21,
   "metadata": {},
   "outputs": [
    {
     "data": {
      "text/html": [
       "<div>\n",
       "<style scoped>\n",
       "    .dataframe tbody tr th:only-of-type {\n",
       "        vertical-align: middle;\n",
       "    }\n",
       "\n",
       "    .dataframe tbody tr th {\n",
       "        vertical-align: top;\n",
       "    }\n",
       "\n",
       "    .dataframe thead th {\n",
       "        text-align: right;\n",
       "    }\n",
       "</style>\n",
       "<table border=\"1\" class=\"dataframe\">\n",
       "  <thead>\n",
       "    <tr style=\"text-align: right;\">\n",
       "      <th></th>\n",
       "      <th>bg_number</th>\n",
       "      <th>total_users_commenting</th>\n",
       "      <th>total_comments_by_author</th>\n",
       "      <th>total_attachment_comments</th>\n",
       "      <th>changes_severity</th>\n",
       "      <th>changes_priority</th>\n",
       "      <th>changes_assigned</th>\n",
       "      <th>total_changes</th>\n",
       "      <th>total_users_changes</th>\n",
       "      <th>severity</th>\n",
       "      <th>...</th>\n",
       "      <th>op_sys_OS/2</th>\n",
       "      <th>op_sys_OpenBSD</th>\n",
       "      <th>op_sys_OpenSolaris</th>\n",
       "      <th>op_sys_Other</th>\n",
       "      <th>op_sys_Solaris</th>\n",
       "      <th>op_sys_Unspecified</th>\n",
       "      <th>op_sys_Windows</th>\n",
       "      <th>op_sys_Windows Phone 8</th>\n",
       "      <th>op_sys_iOS</th>\n",
       "      <th>op_sys_macOS</th>\n",
       "    </tr>\n",
       "  </thead>\n",
       "  <tbody>\n",
       "    <tr>\n",
       "      <th>count</th>\n",
       "      <td>3.780000e+02</td>\n",
       "      <td>378.000000</td>\n",
       "      <td>378.000000</td>\n",
       "      <td>378.000000</td>\n",
       "      <td>378.000000</td>\n",
       "      <td>378.000000</td>\n",
       "      <td>378.000000</td>\n",
       "      <td>378.000000</td>\n",
       "      <td>378.000000</td>\n",
       "      <td>378.000000</td>\n",
       "      <td>...</td>\n",
       "      <td>378.0</td>\n",
       "      <td>378.0</td>\n",
       "      <td>378.0</td>\n",
       "      <td>378.0</td>\n",
       "      <td>378.0</td>\n",
       "      <td>378.000000</td>\n",
       "      <td>378.000000</td>\n",
       "      <td>378.0</td>\n",
       "      <td>378.000000</td>\n",
       "      <td>378.000000</td>\n",
       "    </tr>\n",
       "    <tr>\n",
       "      <th>mean</th>\n",
       "      <td>1.079898e+06</td>\n",
       "      <td>2.981481</td>\n",
       "      <td>2.050265</td>\n",
       "      <td>0.560847</td>\n",
       "      <td>0.291005</td>\n",
       "      <td>0.703704</td>\n",
       "      <td>0.314815</td>\n",
       "      <td>7.579365</td>\n",
       "      <td>3.582011</td>\n",
       "      <td>2.822751</td>\n",
       "      <td>...</td>\n",
       "      <td>0.0</td>\n",
       "      <td>0.0</td>\n",
       "      <td>0.0</td>\n",
       "      <td>0.0</td>\n",
       "      <td>0.0</td>\n",
       "      <td>0.219577</td>\n",
       "      <td>0.325397</td>\n",
       "      <td>0.0</td>\n",
       "      <td>0.002646</td>\n",
       "      <td>0.105820</td>\n",
       "    </tr>\n",
       "    <tr>\n",
       "      <th>std</th>\n",
       "      <td>2.542410e+05</td>\n",
       "      <td>2.441284</td>\n",
       "      <td>3.765699</td>\n",
       "      <td>2.134161</td>\n",
       "      <td>0.540138</td>\n",
       "      <td>0.715154</td>\n",
       "      <td>0.776883</td>\n",
       "      <td>6.513019</td>\n",
       "      <td>2.129718</td>\n",
       "      <td>1.044277</td>\n",
       "      <td>...</td>\n",
       "      <td>0.0</td>\n",
       "      <td>0.0</td>\n",
       "      <td>0.0</td>\n",
       "      <td>0.0</td>\n",
       "      <td>0.0</td>\n",
       "      <td>0.414509</td>\n",
       "      <td>0.469144</td>\n",
       "      <td>0.0</td>\n",
       "      <td>0.051434</td>\n",
       "      <td>0.308015</td>\n",
       "    </tr>\n",
       "    <tr>\n",
       "      <th>min</th>\n",
       "      <td>7.185750e+05</td>\n",
       "      <td>0.000000</td>\n",
       "      <td>0.000000</td>\n",
       "      <td>0.000000</td>\n",
       "      <td>0.000000</td>\n",
       "      <td>0.000000</td>\n",
       "      <td>0.000000</td>\n",
       "      <td>1.000000</td>\n",
       "      <td>1.000000</td>\n",
       "      <td>0.000000</td>\n",
       "      <td>...</td>\n",
       "      <td>0.0</td>\n",
       "      <td>0.0</td>\n",
       "      <td>0.0</td>\n",
       "      <td>0.0</td>\n",
       "      <td>0.0</td>\n",
       "      <td>0.000000</td>\n",
       "      <td>0.000000</td>\n",
       "      <td>0.0</td>\n",
       "      <td>0.000000</td>\n",
       "      <td>0.000000</td>\n",
       "    </tr>\n",
       "    <tr>\n",
       "      <th>25%</th>\n",
       "      <td>8.696555e+05</td>\n",
       "      <td>1.000000</td>\n",
       "      <td>0.000000</td>\n",
       "      <td>0.000000</td>\n",
       "      <td>0.000000</td>\n",
       "      <td>0.000000</td>\n",
       "      <td>0.000000</td>\n",
       "      <td>3.000000</td>\n",
       "      <td>2.000000</td>\n",
       "      <td>2.000000</td>\n",
       "      <td>...</td>\n",
       "      <td>0.0</td>\n",
       "      <td>0.0</td>\n",
       "      <td>0.0</td>\n",
       "      <td>0.0</td>\n",
       "      <td>0.0</td>\n",
       "      <td>0.000000</td>\n",
       "      <td>0.000000</td>\n",
       "      <td>0.0</td>\n",
       "      <td>0.000000</td>\n",
       "      <td>0.000000</td>\n",
       "    </tr>\n",
       "    <tr>\n",
       "      <th>50%</th>\n",
       "      <td>1.053243e+06</td>\n",
       "      <td>2.000000</td>\n",
       "      <td>1.000000</td>\n",
       "      <td>0.000000</td>\n",
       "      <td>0.000000</td>\n",
       "      <td>1.000000</td>\n",
       "      <td>0.000000</td>\n",
       "      <td>6.000000</td>\n",
       "      <td>3.000000</td>\n",
       "      <td>2.000000</td>\n",
       "      <td>...</td>\n",
       "      <td>0.0</td>\n",
       "      <td>0.0</td>\n",
       "      <td>0.0</td>\n",
       "      <td>0.0</td>\n",
       "      <td>0.0</td>\n",
       "      <td>0.000000</td>\n",
       "      <td>0.000000</td>\n",
       "      <td>0.0</td>\n",
       "      <td>0.000000</td>\n",
       "      <td>0.000000</td>\n",
       "    </tr>\n",
       "    <tr>\n",
       "      <th>75%</th>\n",
       "      <td>1.253133e+06</td>\n",
       "      <td>4.000000</td>\n",
       "      <td>2.000000</td>\n",
       "      <td>0.000000</td>\n",
       "      <td>1.000000</td>\n",
       "      <td>1.000000</td>\n",
       "      <td>0.000000</td>\n",
       "      <td>10.000000</td>\n",
       "      <td>4.000000</td>\n",
       "      <td>4.000000</td>\n",
       "      <td>...</td>\n",
       "      <td>0.0</td>\n",
       "      <td>0.0</td>\n",
       "      <td>0.0</td>\n",
       "      <td>0.0</td>\n",
       "      <td>0.0</td>\n",
       "      <td>0.000000</td>\n",
       "      <td>1.000000</td>\n",
       "      <td>0.0</td>\n",
       "      <td>0.000000</td>\n",
       "      <td>0.000000</td>\n",
       "    </tr>\n",
       "    <tr>\n",
       "      <th>max</th>\n",
       "      <td>1.745426e+06</td>\n",
       "      <td>14.000000</td>\n",
       "      <td>38.000000</td>\n",
       "      <td>32.000000</td>\n",
       "      <td>4.000000</td>\n",
       "      <td>4.000000</td>\n",
       "      <td>7.000000</td>\n",
       "      <td>50.000000</td>\n",
       "      <td>12.000000</td>\n",
       "      <td>4.000000</td>\n",
       "      <td>...</td>\n",
       "      <td>0.0</td>\n",
       "      <td>0.0</td>\n",
       "      <td>0.0</td>\n",
       "      <td>0.0</td>\n",
       "      <td>0.0</td>\n",
       "      <td>1.000000</td>\n",
       "      <td>1.000000</td>\n",
       "      <td>0.0</td>\n",
       "      <td>1.000000</td>\n",
       "      <td>1.000000</td>\n",
       "    </tr>\n",
       "  </tbody>\n",
       "</table>\n",
       "<p>8 rows × 1222 columns</p>\n",
       "</div>"
      ],
      "text/plain": [
       "          bg_number  total_users_commenting  total_comments_by_author  \\\n",
       "count  3.780000e+02              378.000000                378.000000   \n",
       "mean   1.079898e+06                2.981481                  2.050265   \n",
       "std    2.542410e+05                2.441284                  3.765699   \n",
       "min    7.185750e+05                0.000000                  0.000000   \n",
       "25%    8.696555e+05                1.000000                  0.000000   \n",
       "50%    1.053243e+06                2.000000                  1.000000   \n",
       "75%    1.253133e+06                4.000000                  2.000000   \n",
       "max    1.745426e+06               14.000000                 38.000000   \n",
       "\n",
       "       total_attachment_comments  changes_severity  changes_priority  \\\n",
       "count                 378.000000        378.000000        378.000000   \n",
       "mean                    0.560847          0.291005          0.703704   \n",
       "std                     2.134161          0.540138          0.715154   \n",
       "min                     0.000000          0.000000          0.000000   \n",
       "25%                     0.000000          0.000000          0.000000   \n",
       "50%                     0.000000          0.000000          1.000000   \n",
       "75%                     0.000000          1.000000          1.000000   \n",
       "max                    32.000000          4.000000          4.000000   \n",
       "\n",
       "       changes_assigned  total_changes  total_users_changes    severity  ...  \\\n",
       "count        378.000000     378.000000           378.000000  378.000000  ...   \n",
       "mean           0.314815       7.579365             3.582011    2.822751  ...   \n",
       "std            0.776883       6.513019             2.129718    1.044277  ...   \n",
       "min            0.000000       1.000000             1.000000    0.000000  ...   \n",
       "25%            0.000000       3.000000             2.000000    2.000000  ...   \n",
       "50%            0.000000       6.000000             3.000000    2.000000  ...   \n",
       "75%            0.000000      10.000000             4.000000    4.000000  ...   \n",
       "max            7.000000      50.000000            12.000000    4.000000  ...   \n",
       "\n",
       "       op_sys_OS/2  op_sys_OpenBSD  op_sys_OpenSolaris  op_sys_Other  \\\n",
       "count        378.0           378.0               378.0         378.0   \n",
       "mean           0.0             0.0                 0.0           0.0   \n",
       "std            0.0             0.0                 0.0           0.0   \n",
       "min            0.0             0.0                 0.0           0.0   \n",
       "25%            0.0             0.0                 0.0           0.0   \n",
       "50%            0.0             0.0                 0.0           0.0   \n",
       "75%            0.0             0.0                 0.0           0.0   \n",
       "max            0.0             0.0                 0.0           0.0   \n",
       "\n",
       "       op_sys_Solaris  op_sys_Unspecified  op_sys_Windows  \\\n",
       "count           378.0          378.000000      378.000000   \n",
       "mean              0.0            0.219577        0.325397   \n",
       "std               0.0            0.414509        0.469144   \n",
       "min               0.0            0.000000        0.000000   \n",
       "25%               0.0            0.000000        0.000000   \n",
       "50%               0.0            0.000000        0.000000   \n",
       "75%               0.0            0.000000        1.000000   \n",
       "max               0.0            1.000000        1.000000   \n",
       "\n",
       "       op_sys_Windows Phone 8  op_sys_iOS  op_sys_macOS  \n",
       "count                   378.0  378.000000    378.000000  \n",
       "mean                      0.0    0.002646      0.105820  \n",
       "std                       0.0    0.051434      0.308015  \n",
       "min                       0.0    0.000000      0.000000  \n",
       "25%                       0.0    0.000000      0.000000  \n",
       "50%                       0.0    0.000000      0.000000  \n",
       "75%                       0.0    0.000000      0.000000  \n",
       "max                       0.0    1.000000      1.000000  \n",
       "\n",
       "[8 rows x 1222 columns]"
      ]
     },
     "execution_count": 21,
     "metadata": {},
     "output_type": "execute_result"
    }
   ],
   "source": [
    "data_eda_incomplete_wrong.describe()"
   ]
  },
  {
   "cell_type": "code",
   "execution_count": 24,
   "metadata": {},
   "outputs": [
    {
     "data": {
      "text/plain": [
       "<AxesSubplot:xlabel='label'>"
      ]
     },
     "execution_count": 24,
     "metadata": {},
     "output_type": "execute_result"
    },
    {
     "data": {
      "image/png": "[encoded data removed]",
      "text/plain": [
       "<Figure size 1490.4x883.44 with 1 Axes>"
      ]
     },
     "metadata": {},
     "output_type": "display_data"
    }
   ],
   "source": [
    "data_eda[['label', 'total_users_commenting']].groupby('label').mean().plot.bar(y='total_users_commenting')"
   ]
  },
  {
   "cell_type": "code",
   "execution_count": 40,
   "metadata": {},
   "outputs": [
    {
     "data": {
      "text/plain": [
       "<AxesSubplot:xlabel='label'>"
      ]
     },
     "execution_count": 40,
     "metadata": {},
     "output_type": "execute_result"
    },
    {
     "data": {
      "image/png": "[encoded data removed]",
      "text/plain": [
       "<Figure size 1490.4x883.44 with 1 Axes>"
      ]
     },
     "metadata": {},
     "output_type": "display_data"
    }
   ],
   "source": [
    "data_eda_plot = data_eda[['label', 'total_users_commenting']].groupby('label').median()\n",
    "data_eda_plot.plot.bar(y='total_users_commenting')"
   ]
  },
  {
   "cell_type": "code",
   "execution_count": null,
   "metadata": {},
   "outputs": [],
   "source": []
  },
  {
   "cell_type": "code",
   "execution_count": 32,
   "metadata": {},
   "outputs": [
    {
     "data": {
      "text/html": [
       "<div>\n",
       "<style scoped>\n",
       "    .dataframe tbody tr th:only-of-type {\n",
       "        vertical-align: middle;\n",
       "    }\n",
       "\n",
       "    .dataframe tbody tr th {\n",
       "        vertical-align: top;\n",
       "    }\n",
       "\n",
       "    .dataframe thead th {\n",
       "        text-align: right;\n",
       "    }\n",
       "</style>\n",
       "<table border=\"1\" class=\"dataframe\">\n",
       "  <thead>\n",
       "    <tr style=\"text-align: right;\">\n",
       "      <th></th>\n",
       "      <th>total_users_commenting</th>\n",
       "    </tr>\n",
       "    <tr>\n",
       "      <th>label</th>\n",
       "      <th></th>\n",
       "    </tr>\n",
       "  </thead>\n",
       "  <tbody>\n",
       "    <tr>\n",
       "      <th>INCOMPLETE</th>\n",
       "      <td>2.523876</td>\n",
       "    </tr>\n",
       "  </tbody>\n",
       "</table>\n",
       "</div>"
      ],
      "text/plain": [
       "            total_users_commenting\n",
       "label                             \n",
       "INCOMPLETE                2.523876"
      ]
     },
     "execution_count": 32,
     "metadata": {},
     "output_type": "execute_result"
    }
   ],
   "source": [
    "data_eda[data_eda['label']== 'INCOMPLETE'][['label', 'total_users_commenting']].groupby('label').mean() "
   ]
  },
  {
   "cell_type": "code",
   "execution_count": 26,
   "metadata": {},
   "outputs": [
    {
     "data": {
      "text/html": [
       "<div>\n",
       "<style scoped>\n",
       "    .dataframe tbody tr th:only-of-type {\n",
       "        vertical-align: middle;\n",
       "    }\n",
       "\n",
       "    .dataframe tbody tr th {\n",
       "        vertical-align: top;\n",
       "    }\n",
       "\n",
       "    .dataframe thead th {\n",
       "        text-align: right;\n",
       "    }\n",
       "</style>\n",
       "<table border=\"1\" class=\"dataframe\">\n",
       "  <thead>\n",
       "    <tr style=\"text-align: right;\">\n",
       "      <th></th>\n",
       "      <th>total_users_commenting</th>\n",
       "    </tr>\n",
       "    <tr>\n",
       "      <th>label</th>\n",
       "      <th></th>\n",
       "    </tr>\n",
       "  </thead>\n",
       "  <tbody>\n",
       "    <tr>\n",
       "      <th>INCOMPLETE</th>\n",
       "      <td>2.981481</td>\n",
       "    </tr>\n",
       "  </tbody>\n",
       "</table>\n",
       "</div>"
      ],
      "text/plain": [
       "            total_users_commenting\n",
       "label                             \n",
       "INCOMPLETE                2.981481"
      ]
     },
     "execution_count": 26,
     "metadata": {},
     "output_type": "execute_result"
    }
   ],
   "source": [
    "data_eda_incomplete_wrong[['label', 'total_users_commenting']].groupby('label').mean()"
   ]
  },
  {
   "cell_type": "code",
   "execution_count": 27,
   "metadata": {},
   "outputs": [
    {
     "data": {
      "text/html": [
       "<div>\n",
       "<style scoped>\n",
       "    .dataframe tbody tr th:only-of-type {\n",
       "        vertical-align: middle;\n",
       "    }\n",
       "\n",
       "    .dataframe tbody tr th {\n",
       "        vertical-align: top;\n",
       "    }\n",
       "\n",
       "    .dataframe thead th {\n",
       "        text-align: right;\n",
       "    }\n",
       "</style>\n",
       "<table border=\"1\" class=\"dataframe\">\n",
       "  <thead>\n",
       "    <tr style=\"text-align: right;\">\n",
       "      <th></th>\n",
       "      <th>total_users_commenting</th>\n",
       "    </tr>\n",
       "    <tr>\n",
       "      <th>label</th>\n",
       "      <th></th>\n",
       "    </tr>\n",
       "  </thead>\n",
       "  <tbody>\n",
       "    <tr>\n",
       "      <th>INCOMPLETE</th>\n",
       "      <td>2.005988</td>\n",
       "    </tr>\n",
       "  </tbody>\n",
       "</table>\n",
       "</div>"
      ],
      "text/plain": [
       "            total_users_commenting\n",
       "label                             \n",
       "INCOMPLETE                2.005988"
      ]
     },
     "execution_count": 27,
     "metadata": {},
     "output_type": "execute_result"
    }
   ],
   "source": [
    "data_eda_incomplete[['label', 'total_users_commenting']].groupby('label').mean()"
   ]
  },
  {
   "cell_type": "code",
   "execution_count": 37,
   "metadata": {},
   "outputs": [
    {
     "name": "stderr",
     "output_type": "stream",
     "text": [
      "/tmp/ipykernel_20881/901845585.py:1: UserWarning: Boolean Series key will be reindexed to match DataFrame index.\n",
      "  data_eda[(data_eda['label'] == 'INCOMPLETE')][(data_eda[\"predicted\"] == 'WORKSFORME')][['label', 'total_users_commenting']].groupby('label').mean()\n"
     ]
    },
    {
     "data": {
      "text/html": [
       "<div>\n",
       "<style scoped>\n",
       "    .dataframe tbody tr th:only-of-type {\n",
       "        vertical-align: middle;\n",
       "    }\n",
       "\n",
       "    .dataframe tbody tr th {\n",
       "        vertical-align: top;\n",
       "    }\n",
       "\n",
       "    .dataframe thead th {\n",
       "        text-align: right;\n",
       "    }\n",
       "</style>\n",
       "<table border=\"1\" class=\"dataframe\">\n",
       "  <thead>\n",
       "    <tr style=\"text-align: right;\">\n",
       "      <th></th>\n",
       "      <th>total_users_commenting</th>\n",
       "    </tr>\n",
       "    <tr>\n",
       "      <th>label</th>\n",
       "      <th></th>\n",
       "    </tr>\n",
       "  </thead>\n",
       "  <tbody>\n",
       "    <tr>\n",
       "      <th>INCOMPLETE</th>\n",
       "      <td>2.724359</td>\n",
       "    </tr>\n",
       "  </tbody>\n",
       "</table>\n",
       "</div>"
      ],
      "text/plain": [
       "            total_users_commenting\n",
       "label                             \n",
       "INCOMPLETE                2.724359"
      ]
     },
     "execution_count": 37,
     "metadata": {},
     "output_type": "execute_result"
    }
   ],
   "source": [
    "data_eda[(data_eda['label'] == 'INCOMPLETE')][(data_eda[\"predicted\"] == 'WORKSFORME')][['label', 'total_users_commenting']].groupby('label').mean()"
   ]
  },
  {
   "cell_type": "code",
   "execution_count": 58,
   "metadata": {},
   "outputs": [
    {
     "data": {
      "text/html": [
       "<div>\n",
       "<style scoped>\n",
       "    .dataframe tbody tr th:only-of-type {\n",
       "        vertical-align: middle;\n",
       "    }\n",
       "\n",
       "    .dataframe tbody tr th {\n",
       "        vertical-align: top;\n",
       "    }\n",
       "\n",
       "    .dataframe thead th {\n",
       "        text-align: right;\n",
       "    }\n",
       "</style>\n",
       "<table border=\"1\" class=\"dataframe\">\n",
       "  <thead>\n",
       "    <tr style=\"text-align: right;\">\n",
       "      <th></th>\n",
       "      <th>total_users_commenting</th>\n",
       "      <th>median</th>\n",
       "    </tr>\n",
       "    <tr>\n",
       "      <th>label</th>\n",
       "      <th></th>\n",
       "      <th></th>\n",
       "    </tr>\n",
       "  </thead>\n",
       "  <tbody>\n",
       "    <tr>\n",
       "      <th>DUPLICATE</th>\n",
       "      <td>2.580916</td>\n",
       "      <td>2.0</td>\n",
       "    </tr>\n",
       "    <tr>\n",
       "      <th>FIXED</th>\n",
       "      <td>5.029571</td>\n",
       "      <td>4.0</td>\n",
       "    </tr>\n",
       "    <tr>\n",
       "      <th>INACTIVE</th>\n",
       "      <td>3.738095</td>\n",
       "      <td>3.0</td>\n",
       "    </tr>\n",
       "    <tr>\n",
       "      <th>INCOMPLETE</th>\n",
       "      <td>2.523876</td>\n",
       "      <td>2.0</td>\n",
       "    </tr>\n",
       "    <tr>\n",
       "      <th>INVALID</th>\n",
       "      <td>2.225664</td>\n",
       "      <td>2.0</td>\n",
       "    </tr>\n",
       "    <tr>\n",
       "      <th>MOVED</th>\n",
       "      <td>3.000000</td>\n",
       "      <td>3.0</td>\n",
       "    </tr>\n",
       "    <tr>\n",
       "      <th>WONTFIX</th>\n",
       "      <td>3.002747</td>\n",
       "      <td>2.0</td>\n",
       "    </tr>\n",
       "    <tr>\n",
       "      <th>WORKSFORME</th>\n",
       "      <td>3.084757</td>\n",
       "      <td>2.0</td>\n",
       "    </tr>\n",
       "  </tbody>\n",
       "</table>\n",
       "</div>"
      ],
      "text/plain": [
       "            total_users_commenting  median\n",
       "label                                     \n",
       "DUPLICATE                 2.580916     2.0\n",
       "FIXED                     5.029571     4.0\n",
       "INACTIVE                  3.738095     3.0\n",
       "INCOMPLETE                2.523876     2.0\n",
       "INVALID                   2.225664     2.0\n",
       "MOVED                     3.000000     3.0\n",
       "WONTFIX                   3.002747     2.0\n",
       "WORKSFORME                3.084757     2.0"
      ]
     },
     "execution_count": 58,
     "metadata": {},
     "output_type": "execute_result"
    }
   ],
   "source": [
    "df = data_eda[['label', 'total_users_commenting']].groupby('label').mean()\n",
    "df['median'] = data_eda[['label', 'total_users_commenting']].groupby('label').median()['total_users_commenting']\n",
    "df"
   ]
  },
  {
   "cell_type": "code",
   "execution_count": null,
   "metadata": {},
   "outputs": [],
   "source": []
  },
  {
   "cell_type": "code",
   "execution_count": 54,
   "metadata": {},
   "outputs": [
    {
     "data": {
      "text/plain": [
       "label\n",
       "DUPLICATE     2.0\n",
       "FIXED         4.0\n",
       "INACTIVE      3.0\n",
       "INCOMPLETE    2.0\n",
       "INVALID       2.0\n",
       "MOVED         3.0\n",
       "WONTFIX       2.0\n",
       "WORKSFORME    2.0\n",
       "Name: total_users_commenting, dtype: float64"
      ]
     },
     "execution_count": 54,
     "metadata": {},
     "output_type": "execute_result"
    }
   ],
   "source": [
    "data_eda[['label', 'total_users_commenting']].groupby('label').median()['total_users_commenting']"
   ]
  },
  {
   "cell_type": "code",
   "execution_count": 72,
   "metadata": {},
   "outputs": [
    {
     "data": {
      "text/plain": [
       "<AxesSubplot:xlabel='label'>"
      ]
     },
     "execution_count": 72,
     "metadata": {},
     "output_type": "execute_result"
    },
    {
     "data": {
      "image/png": "[encoded data removed]",
      "text/plain": [
       "<Figure size 1490.4x883.44 with 1 Axes>"
      ]
     },
     "metadata": {},
     "output_type": "display_data"
    }
   ],
   "source": [
    "fig, ax = plt.subplots()\n",
    "df['median'].plot(ax=ax, marker='o', ls='-', color='#4C9A2A', alpha = 0.9)\n",
    "df['total_users_commenting'].plot(kind='bar', ax=ax, alpha=0.7)"
   ]
  },
  {
   "cell_type": "code",
   "execution_count": null,
   "metadata": {},
   "outputs": [],
   "source": []
  },
  {
   "cell_type": "code",
   "execution_count": null,
   "metadata": {},
   "outputs": [],
   "source": []
  },
  {
   "cell_type": "code",
   "execution_count": null,
   "metadata": {},
   "outputs": [],
   "source": []
  }
 ],
 "metadata": {
  "kernelspec": {
   "display_name": "Python 3",
   "language": "python",
   "name": "python3"
  },
  "language_info": {
   "codemirror_mode": {
    "name": "ipython",
    "version": 3
   },
   "file_extension": ".py",
   "mimetype": "text/x-python",
   "name": "python",
   "nbconvert_exporter": "python",
   "pygments_lexer": "ipython3",
   "version": "3.9.2"
  },
  "orig_nbformat": 4,
  "vscode": {
   "interpreter": {
    "hash": "31f2aee4e71d21fbe5cf8b01ff0e069b9275f58929596ceb00d14d90e3e16cd6"
   }
  }
 },
 "nbformat": 4,
 "nbformat_minor": 2
}
