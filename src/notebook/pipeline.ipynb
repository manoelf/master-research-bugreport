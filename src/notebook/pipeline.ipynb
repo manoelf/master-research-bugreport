{
 "cells": [
  {
   "cell_type": "code",
   "execution_count": null,
   "metadata": {},
   "outputs": [],
   "source": [
    "import pandas as pd\n",
    "\n",
    "from src.modules.util.util import DataUtil as util, ShowMetrics\n",
    "from src.modules.util.constant import Features, Model, ModelName as mn\n",
    "from src.modules.preprocess.preprocess import Preprocess\n",
    "from src.modules.pipeline.balancing import Balancing"
   ]
  },
  {
   "cell_type": "markdown",
   "metadata": {},
   "source": [
    "## Loading Data"
   ]
  },
  {
   "cell_type": "code",
   "execution_count": null,
   "metadata": {},
   "outputs": [],
   "source": [
    "train = pd.read_csv('../data/train_balnced_no_test.csv')\n",
    "test = pd.read_csv('../data/test_umbalanced.csv')\n",
    "data_raw = None"
   ]
  },
  {
   "cell_type": "markdown",
   "metadata": {},
   "source": [
    "## Preprocess"
   ]
  },
  {
   "cell_type": "code",
   "execution_count": null,
   "metadata": {},
   "outputs": [],
   "source": [
    "data = pd.DataFrame.copy(data_raw)"
   ]
  },
  {
   "cell_type": "code",
   "execution_count": null,
   "metadata": {},
   "outputs": [],
   "source": [
    "train = Util.remove_features(train, Features.train_test_dropped)\n",
    "test = Util.remove_features(test, Features.train_test_dropped)"
   ]
  },
  {
   "cell_type": "code",
   "execution_count": null,
   "metadata": {},
   "outputs": [],
   "source": [
    "# filing the null values whit empty string\n",
    "data = Preprocess.fill_null_values(data, Features.description)\n",
    "data = Preprocess.fill_null_values(data, Features.summary)\n",
    "\n",
    "# removing features that have mostly empty values\n",
    "data = Util.remove_features(data, Features.features, True)\n",
    "\n",
    "# transforming non-numeric features in dummy features\n",
    "data = Preprocess.get_dummy_feature(data)"
   ]
  },
  {
   "cell_type": "markdown",
   "metadata": {},
   "source": [
    "## Balancing "
   ]
  },
  {
   "cell_type": "markdown",
   "metadata": {},
   "source": [
    "##### For balancind the data the follwoing chunks must be executed."
   ]
  },
  {
   "cell_type": "code",
   "execution_count": null,
   "metadata": {},
   "outputs": [],
   "source": [
    "balanced_data = Balancing.oversample(data)"
   ]
  },
  {
   "cell_type": "markdown",
   "metadata": {},
   "source": [
    "##### Saving balanced data into a csv file"
   ]
  },
  {
   "cell_type": "code",
   "execution_count": null,
   "metadata": {},
   "outputs": [],
   "source": [
    "balanced_data.to_csv('../data/balanced/balanced_data.csv', index=False)"
   ]
  },
  {
   "cell_type": "markdown",
   "metadata": {},
   "source": [
    "## Machine Learning Models"
   ]
  },
  {
   "cell_type": "markdown",
   "metadata": {},
   "source": [
    "#### Gaussian Naive Bayers, Logistic Regression, Decision Tree, Random Forest and Gradient Boosting"
   ]
  },
  {
   "cell_type": "code",
   "execution_count": null,
   "metadata": {},
   "outputs": [],
   "source": [
    "NB, LG, DT, RF, GB = Model.NB, Model.LG, Model.DT, Model.RF, Model.GB"
   ]
  },
  {
   "cell_type": "code",
   "execution_count": null,
   "metadata": {},
   "outputs": [],
   "source": [
    "x_train, y_train, x_test, y_test, classes = util.get_classification_artifacts(train, test)"
   ]
  },
  {
   "cell_type": "code",
   "execution_count": null,
   "metadata": {},
   "outputs": [],
   "source": [
    "NB_metrics = util.get_metrics(NB, mn.NB, x_train, y_train, x_test, y_test, classes)\n",
    "LG_metrics = util.get_metrics(LG, mn.LG, x_train, y_train, x_test, y_test, classes)\n",
    "DT_metrics = util.get_metrics(DT, mn.DT, x_train, y_train, x_test, y_test, classes)\n",
    "RF_metrics = util.get_metrics(RF, mn.RF, x_train, y_train, x_test, y_test, classes)\n",
    "GB_metrics = util.get_metrics(GB, mn.GB, x_train, y_train, x_test, y_test, classes)"
   ]
  },
  {
   "cell_type": "code",
   "execution_count": null,
   "metadata": {},
   "outputs": [],
   "source": [
    "# nesse get metrics add tempo e AUC e a matriz de confusão, separar cada modelo em uma celula do notebook"
   ]
  },
  {
   "cell_type": "markdown",
   "metadata": {},
   "source": [
    "## Cross Validation"
   ]
  },
  {
   "cell_type": "code",
   "execution_count": null,
   "metadata": {},
   "outputs": [],
   "source": [
    "CV = Model.CV"
   ]
  },
  {
   "cell_type": "code",
   "execution_count": null,
   "metadata": {},
   "outputs": [],
   "source": []
  }
 ],
 "metadata": {
  "language_info": {
   "name": "python"
  },
  "orig_nbformat": 4
 },
 "nbformat": 4,
 "nbformat_minor": 2
}
